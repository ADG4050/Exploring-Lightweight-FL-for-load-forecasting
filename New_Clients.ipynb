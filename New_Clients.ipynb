{
  "nbformat": 4,
  "nbformat_minor": 0,
  "metadata": {
    "colab": {
      "provenance": []
    },
    "kernelspec": {
      "name": "python3",
      "display_name": "Python 3"
    },
    "language_info": {
      "name": "python"
    }
  },
  "cells": [
    {
      "cell_type": "code",
      "execution_count": 105,
      "metadata": {
        "id": "4U6F8wLyj0R4"
      },
      "outputs": [],
      "source": [
        "#@test {\"skip\": true}\n",
        "\n",
        "!pip install --quiet --upgrade tensorflow-federated"
      ]
    },
    {
      "cell_type": "code",
      "source": [
        "import collections\n",
        "\n",
        "import numpy as np\n",
        "import tensorflow as tf\n",
        "import tensorflow_federated as tff\n",
        "\n",
        "np.random.seed(0)\n",
        "\n",
        "tff.federated_computation(lambda: 'Hello, World!')()"
      ],
      "metadata": {
        "colab": {
          "base_uri": "https://localhost:8080/"
        },
        "id": "LjUNVH1Wj6pa",
        "outputId": "69640780-1e28-4e0d-9121-f71034f84371"
      },
      "execution_count": 106,
      "outputs": [
        {
          "output_type": "execute_result",
          "data": {
            "text/plain": [
              "b'Hello, World!'"
            ]
          },
          "metadata": {},
          "execution_count": 106
        }
      ]
    },
    {
      "cell_type": "code",
      "source": [
        "from google.colab import drive\n",
        "drive.mount('/content/drive')"
      ],
      "metadata": {
        "colab": {
          "base_uri": "https://localhost:8080/"
        },
        "id": "Bgo0CXENj_AD",
        "outputId": "ab6b37ad-d137-4be5-b064-71241e85c896"
      },
      "execution_count": 107,
      "outputs": [
        {
          "output_type": "stream",
          "name": "stdout",
          "text": [
            "Drive already mounted at /content/drive; to attempt to forcibly remount, call drive.mount(\"/content/drive\", force_remount=True).\n"
          ]
        }
      ]
    },
    {
      "cell_type": "code",
      "source": [
        "import pandas as pd\n",
        "\n",
        "data = pd.read_csv('/content/drive/MyDrive/LAB3-20221109T160610Z-001/LCL-FullData/Cluster14data.csv')"
      ],
      "metadata": {
        "id": "UIOK5xd5kD0P"
      },
      "execution_count": 108,
      "outputs": []
    },
    {
      "cell_type": "code",
      "source": [
        "# dividing the two year data into 24 parts (each 1 month data)\n",
        "data['DateTime'] = pd.to_datetime(data['DateTime'])"
      ],
      "metadata": {
        "id": "w6OmI4WdkHa0"
      },
      "execution_count": 109,
      "outputs": []
    },
    {
      "cell_type": "code",
      "source": [
        "# Filter the DataFrame to include readings from Jan 01, 2012, to Dec 31, 2012\n",
        "start_date1 = pd.to_datetime('2012-01-01')\n",
        "end_date1 = pd.to_datetime('2012-12-31')\n",
        "filtered_data1 = data[(data['DateTime'] >= start_date1) & (data['DateTime'] <= end_date1)]\n",
        "\n",
        "# Filter the DataFrame to include readings from Jan 01, 2013, to Dec 31, 2013\n",
        "start_date2 = pd.to_datetime('2013-01-01')\n",
        "end_date2 = pd.to_datetime('2013-12-31')\n",
        "filtered_data2 = data[(data['DateTime'] >= start_date2) & (data['DateTime'] <= end_date2)]"
      ],
      "metadata": {
        "id": "F5Lvsh7hkKc5"
      },
      "execution_count": 110,
      "outputs": []
    },
    {
      "cell_type": "code",
      "source": [
        "# Select 5 unique LCLids\n",
        "lclid_list1 = filtered_data1['LCLid'].unique()\n",
        "selected_lclids1 = lclid_list1[:20]\n",
        "\n",
        "# Filter data for the selected LCLids\n",
        "f_data1 = filtered_data1[filtered_data1['LCLid'].isin(selected_lclids1)]\n",
        "\n",
        "# Select 5 unique LCLids\n",
        "lclid_list2 = filtered_data2['LCLid'].unique()\n",
        "selected_lclids2 = lclid_list2[:20]\n",
        "\n",
        "# Filter data for the selected LCLids\n",
        "f_data2 = filtered_data2[filtered_data2['LCLid'].isin(selected_lclids2)]"
      ],
      "metadata": {
        "id": "LMfR2nzMkwP3"
      },
      "execution_count": 111,
      "outputs": []
    },
    {
      "cell_type": "code",
      "source": [
        "datan1 = f_data1.copy()\n",
        "datan1['KWH/hh'] = datan1['KWH/hh'].astype(np.float32)\n",
        "datan2 = f_data2.copy()\n",
        "datan2['KWH/hh'] = datan2['KWH/hh'].astype(np.float32)\n",
        "\n",
        "datan1 = datan1.drop('cluster', axis=1)\n",
        "datan1 = datan1.drop('stdorToU', axis=1)\n",
        "datan2 = datan2.drop('cluster', axis=1)\n",
        "datan2 = datan2.drop('stdorToU', axis=1)"
      ],
      "metadata": {
        "id": "6L8vMuVYlHhu"
      },
      "execution_count": 112,
      "outputs": []
    },
    {
      "cell_type": "code",
      "source": [
        "datan1.reset_index(drop=True, inplace=True)\n",
        "datan2.reset_index(drop=True, inplace=True)"
      ],
      "metadata": {
        "id": "Wyfp0I_nlWjc"
      },
      "execution_count": 113,
      "outputs": []
    },
    {
      "cell_type": "code",
      "source": [
        "datan1['DateTime'] = pd.to_datetime(datan1.DateTime).dt.tz_localize(None)\n",
        "for i in range(len(datan1)):\n",
        "  datan1['DateTime'][i]=datan1['DateTime'][i].timestamp()"
      ],
      "metadata": {
        "colab": {
          "base_uri": "https://localhost:8080/"
        },
        "id": "vgqgpHmflyZf",
        "outputId": "441a280b-7ac6-421c-a371-9d48b5d1af72"
      },
      "execution_count": 114,
      "outputs": [
        {
          "output_type": "stream",
          "name": "stderr",
          "text": [
            "<ipython-input-114-b59380e28e58>:3: SettingWithCopyWarning: \n",
            "A value is trying to be set on a copy of a slice from a DataFrame\n",
            "\n",
            "See the caveats in the documentation: https://pandas.pydata.org/pandas-docs/stable/user_guide/indexing.html#returning-a-view-versus-a-copy\n",
            "  datan1['DateTime'][i]=datan1['DateTime'][i].timestamp()\n"
          ]
        }
      ]
    },
    {
      "cell_type": "code",
      "source": [
        "datan2['DateTime'] = pd.to_datetime(datan2.DateTime).dt.tz_localize(None)\n",
        "for i in range(len(datan2)):\n",
        "  datan2['DateTime'][i]=datan2['DateTime'][i].timestamp()"
      ],
      "metadata": {
        "colab": {
          "base_uri": "https://localhost:8080/"
        },
        "id": "DHjOUZaDl2sA",
        "outputId": "6d9a1f11-2530-452c-83e8-b5a5c01b83bc"
      },
      "execution_count": 115,
      "outputs": [
        {
          "output_type": "stream",
          "name": "stderr",
          "text": [
            "<ipython-input-115-04c0d2c83489>:3: SettingWithCopyWarning: \n",
            "A value is trying to be set on a copy of a slice from a DataFrame\n",
            "\n",
            "See the caveats in the documentation: https://pandas.pydata.org/pandas-docs/stable/user_guide/indexing.html#returning-a-view-versus-a-copy\n",
            "  datan2['DateTime'][i]=datan2['DateTime'][i].timestamp()\n"
          ]
        }
      ]
    },
    {
      "cell_type": "code",
      "source": [
        "datan1['DateTime'] = datan1['DateTime'].astype(np.float32)\n",
        "datan2['DateTime'] = datan2['DateTime'].astype(np.float32)"
      ],
      "metadata": {
        "id": "GUVxrV-fmDVl"
      },
      "execution_count": 116,
      "outputs": []
    },
    {
      "cell_type": "code",
      "source": [
        "# Sort the data by 'LCLid' and 'DateTime'\n",
        "datan1.sort_values(['LCLid', 'DateTime'], inplace=True)\n",
        "datan2.sort_values(['LCLid', 'DateTime'], inplace=True)"
      ],
      "metadata": {
        "id": "L0t4JtqKmM4j"
      },
      "execution_count": 117,
      "outputs": []
    },
    {
      "cell_type": "code",
      "source": [
        "# Define the client window dataset function for a specific LCLid\n",
        "def create_client_dataset_for_LCLid(client_data, window_size, step_size):\n",
        "    client_windows = []\n",
        "    client_targets = []\n",
        "    num_readings = len(client_data)\n",
        "    \n",
        "    # Iterate over the readings using the sliding window\n",
        "    for i in range(0, num_readings - window_size, step_size):\n",
        "        window_start = i \n",
        "        window_end = i + window_size - 1\n",
        "        prediction_index = window_end + step_size\n",
        "        \n",
        "        # Extract the window and the prediction target\n",
        "        window = client_data.iloc[window_start:window_end + 1]['KWH/hh'].values\n",
        "        target = client_data.iloc[prediction_index]['KWH/hh']\n",
        "        \n",
        "        client_windows.append(window)\n",
        "        client_targets.append(target)\n",
        "    \n",
        "    # Create an ordered dictionary with 'x' and 'y' keys\n",
        "    ordered_dict = collections.OrderedDict()\n",
        "    ordered_dict['x'] = tf.stack(client_windows)\n",
        "    ordered_dict['y'] = tf.expand_dims(client_targets, axis=-1)\n",
        "    \n",
        "    \n",
        "    return ordered_dict"
      ],
      "metadata": {
        "id": "1QSfU28mmM1y"
      },
      "execution_count": 118,
      "outputs": []
    },
    {
      "cell_type": "code",
      "source": [
        "window_size = 336\n",
        "step_size = 1\n",
        "\n",
        "# Filter the dataframe for the specific LCLid\n",
        "example_LCLid = datan1['LCLid'].unique()[3]\n",
        "clientyy_data = datan1[datan1['LCLid'] == example_LCLid]\n",
        "\n",
        "# Create the client dataset for the specific LCLid\n",
        "example_client_dataset = create_client_dataset_for_LCLid(clientyy_data, window_size, step_size)\n",
        "\n",
        "print(\"Client dataset for LCLid\", example_LCLid)\n",
        "print(example_client_dataset)"
      ],
      "metadata": {
        "colab": {
          "base_uri": "https://localhost:8080/"
        },
        "id": "QD9dvy8emMyz",
        "outputId": "dee23857-6be4-480c-f828-2d6933d8c2ea"
      },
      "execution_count": 119,
      "outputs": [
        {
          "output_type": "stream",
          "name": "stdout",
          "text": [
            "Client dataset for LCLid MAC000200\n",
            "OrderedDict([('x', <tf.Tensor: shape=(17193, 336), dtype=float32, numpy=\n",
            "array([[0.013, 0.012, 0.019, ..., 0.077, 0.08 , 0.118],\n",
            "       [0.012, 0.019, 0.063, ..., 0.08 , 0.118, 0.123],\n",
            "       [0.019, 0.063, 0.013, ..., 0.118, 0.123, 0.015],\n",
            "       ...,\n",
            "       [0.115, 0.078, 0.106, ..., 0.59 , 0.073, 0.117],\n",
            "       [0.078, 0.106, 0.016, ..., 0.073, 0.117, 0.112],\n",
            "       [0.106, 0.016, 0.029, ..., 0.117, 0.112, 0.089]], dtype=float32)>), ('y', <tf.Tensor: shape=(17193, 1), dtype=float32, numpy=\n",
            "array([[0.123],\n",
            "       [0.015],\n",
            "       [0.013],\n",
            "       ...,\n",
            "       [0.112],\n",
            "       [0.089],\n",
            "       [0.097]], dtype=float32)>)])\n"
          ]
        }
      ]
    },
    {
      "cell_type": "code",
      "source": [
        "NUM_EPOCHS = 5\n",
        "BATCH_SIZE = 20\n",
        "SHUFFLE_BUFFER = 100\n",
        "PREFETCH_BUFFER = 10\n",
        "\n",
        "def preprocess_client_dataset(dataset):\n",
        "    def batch_format_fn(element):\n",
        "        return collections.OrderedDict(\n",
        "            x=tf.reshape(element['x'], [-1, 336]),\n",
        "            y=tf.reshape(element['y'], [-1, 1]))\n",
        "    return dataset.repeat(NUM_EPOCHS).shuffle(SHUFFLE_BUFFER).batch(\n",
        "        BATCH_SIZE).map(batch_format_fn).prefetch(PREFETCH_BUFFER)\n",
        " \n",
        "\n",
        "preprocessed_example_client_dataset = preprocess_client_dataset(tf.data.Dataset.from_tensor_slices(example_client_dataset))\n",
        "\n",
        "\n",
        "sample_batch = tf.nest.map_structure(lambda x: x.numpy(),\n",
        "                                     next(iter(preprocessed_example_client_dataset)))\n",
        "\n",
        "sample_batch"
      ],
      "metadata": {
        "colab": {
          "base_uri": "https://localhost:8080/"
        },
        "id": "WQtoW-9-mMRZ",
        "outputId": "f362f4e3-3601-4f64-8041-72ce3885ef28"
      },
      "execution_count": 120,
      "outputs": [
        {
          "output_type": "execute_result",
          "data": {
            "text/plain": [
              "OrderedDict([('x',\n",
              "              array([[0.013, 0.051, 0.029, ..., 0.057, 0.09 , 0.084],\n",
              "                     [0.013, 0.04 , 0.041, ..., 0.013, 0.082, 0.039],\n",
              "                     [0.012, 0.013, 0.046, ..., 0.148, 0.031, 0.017],\n",
              "                     ...,\n",
              "                     [0.062, 0.018, 0.022, ..., 0.012, 0.013, 0.012],\n",
              "                     [0.042, 0.038, 0.012, ..., 0.023, 0.024, 0.024],\n",
              "                     [0.081, 0.078, 0.079, ..., 0.024, 0.025, 0.025]], dtype=float32)),\n",
              "             ('y',\n",
              "              array([[0.148],\n",
              "                     [0.254],\n",
              "                     [0.063],\n",
              "                     [0.226],\n",
              "                     [0.027],\n",
              "                     [0.042],\n",
              "                     [0.275],\n",
              "                     [0.599],\n",
              "                     [0.017],\n",
              "                     [0.079],\n",
              "                     [0.051],\n",
              "                     [0.321],\n",
              "                     [0.065],\n",
              "                     [0.062],\n",
              "                     [0.013],\n",
              "                     [0.07 ],\n",
              "                     [0.012],\n",
              "                     [0.076],\n",
              "                     [0.031],\n",
              "                     [0.036]], dtype=float32))])"
            ]
          },
          "metadata": {},
          "execution_count": 120
        }
      ]
    },
    {
      "cell_type": "code",
      "source": [
        "NUM_CLIENTS = 10  # Replace with desired number of clients\n",
        "sample_clients = datan1['LCLid'].unique()[0:NUM_CLIENTS]\n",
        "sample_clients_list = sample_clients.tolist()\n",
        "sample_clients_list"
      ],
      "metadata": {
        "colab": {
          "base_uri": "https://localhost:8080/"
        },
        "id": "aqaEMUOmme_C",
        "outputId": "770b9810-5a75-4709-ceb7-a30c8f9ff7cf"
      },
      "execution_count": 121,
      "outputs": [
        {
          "output_type": "execute_result",
          "data": {
            "text/plain": [
              "['MAC000025',\n",
              " 'MAC000104',\n",
              " 'MAC000160',\n",
              " 'MAC000200',\n",
              " 'MAC000229',\n",
              " 'MAC000283',\n",
              " 'MAC000297',\n",
              " 'MAC000318',\n",
              " 'MAC000319',\n",
              " 'MAC000391']"
            ]
          },
          "metadata": {},
          "execution_count": 121
        }
      ]
    },
    {
      "cell_type": "code",
      "source": [
        "# Iterate over unique LCLids in the dataframe\n",
        "client_datasets_12 = {}\n",
        "for LCLid in sample_clients_list:\n",
        "    # Filter the dataframe for the current LCLid\n",
        "    client_data = datan1[datan1['LCLid'] == LCLid]\n",
        "\n",
        "    clientxx_dataset = create_client_dataset_for_LCLid(client_data, window_size, step_size)\n",
        "    \n",
        "    # Create the client dataset for the current LCLid\n",
        "    preprocessed_client_dataset = preprocess_client_dataset(tf.data.Dataset.from_tensor_slices(clientxx_dataset))\n",
        "    \n",
        "    # Extract a sample batch from the preprocessed dataset\n",
        "    sam_batch = tf.nest.map_structure(lambda x: x.numpy(), next(iter(preprocessed_client_dataset)))\n",
        "    \n",
        "    # Store the preprocessed dataset in the dictionary with LCLid as the key\n",
        "    client_datasets_12[LCLid] = preprocessed_client_dataset\n",
        "\n",
        "    print(\"Client dataset for LCLid\", LCLid)\n",
        "    print(sam_batch)"
      ],
      "metadata": {
        "colab": {
          "base_uri": "https://localhost:8080/"
        },
        "id": "QkZ0LLZgmveJ",
        "outputId": "14f010eb-4a0c-4f08-e409-b5e3a12cd057"
      },
      "execution_count": 122,
      "outputs": [
        {
          "output_type": "stream",
          "name": "stdout",
          "text": [
            "Client dataset for LCLid MAC000025\n",
            "OrderedDict([('x', array([[0.000e+00, 2.100e-02, 2.000e-03, ..., 1.300e-02, 0.000e+00,\n",
            "        2.600e-02],\n",
            "       [3.200e-02, 6.900e-02, 1.709e+00, ..., 1.200e-02, 2.300e-02,\n",
            "        2.500e-02],\n",
            "       [4.900e-02, 6.700e-02, 6.200e-02, ..., 1.838e+00, 1.910e-01,\n",
            "        6.200e-02],\n",
            "       ...,\n",
            "       [2.400e-02, 0.000e+00, 1.500e-02, ..., 0.000e+00, 2.400e-02,\n",
            "        1.000e-03],\n",
            "       [4.300e-02, 6.280e-01, 2.800e-02, ..., 1.500e-02, 1.260e-01,\n",
            "        1.190e-01],\n",
            "       [4.590e-01, 2.270e-01, 0.000e+00, ..., 5.700e-02, 5.980e-01,\n",
            "        7.140e-01]], dtype=float32)), ('y', array([[0.   ],\n",
            "       [0.067],\n",
            "       [0.075],\n",
            "       [0.023],\n",
            "       [0.058],\n",
            "       [0.   ],\n",
            "       [0.021],\n",
            "       [0.   ],\n",
            "       [0.04 ],\n",
            "       [0.098],\n",
            "       [0.023],\n",
            "       [0.023],\n",
            "       [0.052],\n",
            "       [0.598],\n",
            "       [0.026],\n",
            "       [0.011],\n",
            "       [0.024],\n",
            "       [0.002],\n",
            "       [0.64 ],\n",
            "       [0.063]], dtype=float32))])\n",
            "Client dataset for LCLid MAC000104\n",
            "OrderedDict([('x', array([[0.063, 0.088, 0.101, ..., 0.066, 0.102, 0.096],\n",
            "       [0.053, 0.103, 0.11 , ..., 0.096, 0.096, 0.095],\n",
            "       [0.11 , 0.112, 0.173, ..., 0.236, 0.573, 0.174],\n",
            "       ...,\n",
            "       [0.695, 0.169, 0.185, ..., 0.25 , 0.212, 0.134],\n",
            "       [0.112, 0.173, 0.201, ..., 0.573, 0.174, 0.181],\n",
            "       [0.146, 0.077, 0.054, ..., 0.293, 0.316, 0.233]], dtype=float32)), ('y', array([[0.25 ],\n",
            "       [0.095],\n",
            "       [0.181],\n",
            "       [0.053],\n",
            "       [0.772],\n",
            "       [0.153],\n",
            "       [0.175],\n",
            "       [0.074],\n",
            "       [0.063],\n",
            "       [0.097],\n",
            "       [0.046],\n",
            "       [0.096],\n",
            "       [0.164],\n",
            "       [0.11 ],\n",
            "       [0.717],\n",
            "       [0.096],\n",
            "       [0.096],\n",
            "       [0.134],\n",
            "       [0.174],\n",
            "       [0.098]], dtype=float32))])\n",
            "Client dataset for LCLid MAC000160\n",
            "OrderedDict([('x', array([[0.179, 0.224, 0.209, ..., 0.056, 0.029, 0.055],\n",
            "       [0.034, 0.048, 0.044, ..., 0.061, 0.034, 0.056],\n",
            "       [0.038, 0.041, 0.046, ..., 0.162, 0.198, 0.099],\n",
            "       ...,\n",
            "       [0.027, 0.057, 0.028, ..., 0.038, 0.049, 0.041],\n",
            "       [0.057, 0.028, 0.055, ..., 0.049, 0.041, 0.042],\n",
            "       [0.075, 0.082, 0.044, ..., 0.338, 0.209, 0.152]], dtype=float32)), ('y', array([[0.036],\n",
            "       [0.038],\n",
            "       [0.716],\n",
            "       [0.055],\n",
            "       [0.039],\n",
            "       [0.099],\n",
            "       [0.055],\n",
            "       [0.04 ],\n",
            "       [0.185],\n",
            "       [0.05 ],\n",
            "       [0.044],\n",
            "       [0.047],\n",
            "       [0.072],\n",
            "       [0.071],\n",
            "       [0.046],\n",
            "       [0.129],\n",
            "       [0.046],\n",
            "       [0.042],\n",
            "       [0.047],\n",
            "       [0.126]], dtype=float32))])\n",
            "Client dataset for LCLid MAC000200\n",
            "OrderedDict([('x', array([[0.04 , 0.063, 0.025, ..., 0.012, 0.013, 0.013],\n",
            "       [0.034, 0.017, 0.012, ..., 0.012, 0.025, 0.062],\n",
            "       [0.017, 0.012, 0.028, ..., 0.025, 0.062, 0.016],\n",
            "       ...,\n",
            "       [0.036, 0.012, 0.022, ..., 0.067, 0.092, 0.056],\n",
            "       [0.323, 0.128, 0.2  , ..., 0.255, 0.143, 0.06 ],\n",
            "       [0.013, 0.012, 0.015, ..., 0.062, 0.133, 0.026]], dtype=float32)), ('y', array([[0.061],\n",
            "       [0.016],\n",
            "       [0.012],\n",
            "       [0.057],\n",
            "       [0.084],\n",
            "       [0.024],\n",
            "       [0.039],\n",
            "       [0.013],\n",
            "       [0.028],\n",
            "       [0.145],\n",
            "       [0.116],\n",
            "       [1.233],\n",
            "       [0.321],\n",
            "       [0.031],\n",
            "       [0.031],\n",
            "       [0.024],\n",
            "       [0.062],\n",
            "       [0.012],\n",
            "       [0.057],\n",
            "       [0.037]], dtype=float32))])\n",
            "Client dataset for LCLid MAC000229\n",
            "OrderedDict([('x', array([[0.904, 0.589, 0.443, ..., 0.107, 0.322, 0.123],\n",
            "       [0.24 , 0.322, 1.962, ..., 0.081, 0.09 , 0.085],\n",
            "       [0.12 , 0.102, 0.174, ..., 0.331, 0.147, 0.528],\n",
            "       ...,\n",
            "       [0.063, 0.208, 0.234, ..., 0.055, 0.036, 0.035],\n",
            "       [0.058, 0.041, 0.073, ..., 0.09 , 0.086, 0.088],\n",
            "       [0.122, 0.12 , 0.115, ..., 0.17 , 0.178, 0.178]], dtype=float32)), ('y', array([[0.077],\n",
            "       [0.156],\n",
            "       [0.434],\n",
            "       [0.186],\n",
            "       [0.087],\n",
            "       [0.09 ],\n",
            "       [0.055],\n",
            "       [0.324],\n",
            "       [0.604],\n",
            "       [0.108],\n",
            "       [0.053],\n",
            "       [0.108],\n",
            "       [0.16 ],\n",
            "       [0.088],\n",
            "       [0.935],\n",
            "       [0.101],\n",
            "       [0.09 ],\n",
            "       [0.054],\n",
            "       [0.062],\n",
            "       [0.164]], dtype=float32))])\n",
            "Client dataset for LCLid MAC000283\n",
            "OrderedDict([('x', array([[0.192, 0.133, 0.135, ..., 0.329, 0.156, 0.161],\n",
            "       [0.056, 0.118, 0.1  , ..., 0.096, 0.069, 0.05 ],\n",
            "       [0.082, 0.08 , 0.385, ..., 0.112, 0.155, 0.216],\n",
            "       ...,\n",
            "       [0.216, 0.104, 0.164, ..., 0.379, 0.15 , 0.051],\n",
            "       [0.148, 0.184, 0.147, ..., 0.107, 0.163, 0.105],\n",
            "       [0.108, 0.053, 0.148, ..., 0.118, 0.176, 0.331]], dtype=float32)), ('y', array([[0.204],\n",
            "       [0.094],\n",
            "       [0.373],\n",
            "       [0.293],\n",
            "       [0.29 ],\n",
            "       [0.198],\n",
            "       [0.052],\n",
            "       [0.053],\n",
            "       [0.208],\n",
            "       [0.062],\n",
            "       [0.155],\n",
            "       [0.161],\n",
            "       [0.156],\n",
            "       [0.247],\n",
            "       [0.077],\n",
            "       [0.09 ],\n",
            "       [0.059],\n",
            "       [0.086],\n",
            "       [0.124],\n",
            "       [0.152]], dtype=float32))])\n",
            "Client dataset for LCLid MAC000297\n",
            "OrderedDict([('x', array([[0.579, 0.635, 0.776, ..., 0.006, 0.087, 0.12 ],\n",
            "       [0.229, 0.028, 0.007, ..., 0.289, 0.25 , 0.279],\n",
            "       [0.006, 0.047, 0.048, ..., 0.061, 0.061, 0.06 ],\n",
            "       ...,\n",
            "       [0.048, 0.045, 0.028, ..., 0.174, 0.059, 0.022],\n",
            "       [0.006, 0.007, 0.006, ..., 0.019, 0.109, 0.035],\n",
            "       [0.197, 0.247, 0.055, ..., 0.007, 0.007, 0.048]], dtype=float32)), ('y', array([[0.162],\n",
            "       [0.708],\n",
            "       [0.061],\n",
            "       [0.066],\n",
            "       [0.007],\n",
            "       [0.04 ],\n",
            "       [0.049],\n",
            "       [0.651],\n",
            "       [0.007],\n",
            "       [0.008],\n",
            "       [0.035],\n",
            "       [0.15 ],\n",
            "       [0.315],\n",
            "       [0.183],\n",
            "       [0.041],\n",
            "       [0.007],\n",
            "       [0.006],\n",
            "       [0.05 ],\n",
            "       [0.048],\n",
            "       [0.047]], dtype=float32))])\n",
            "Client dataset for LCLid MAC000318\n",
            "OrderedDict([('x', array([[0.222, 0.142, 0.154, ..., 0.052, 0.077, 0.333],\n",
            "       [0.21 , 0.222, 0.142, ..., 0.055, 0.052, 0.077],\n",
            "       [0.072, 0.083, 0.052, ..., 0.153, 0.109, 0.076],\n",
            "       ...,\n",
            "       [0.259, 0.197, 0.23 , ..., 0.086, 0.163, 0.128],\n",
            "       [0.27 , 0.129, 0.155, ..., 0.091, 0.071, 0.081],\n",
            "       [0.105, 0.071, 0.072, ..., 0.071, 0.074, 0.043]], dtype=float32)), ('y', array([[0.146],\n",
            "       [0.333],\n",
            "       [0.071],\n",
            "       [0.104],\n",
            "       [0.096],\n",
            "       [0.072],\n",
            "       [0.113],\n",
            "       [0.072],\n",
            "       [0.07 ],\n",
            "       [0.046],\n",
            "       [0.095],\n",
            "       [0.394],\n",
            "       [0.07 ],\n",
            "       [0.063],\n",
            "       [0.296],\n",
            "       [0.169],\n",
            "       [0.095],\n",
            "       [0.648],\n",
            "       [0.095],\n",
            "       [0.046]], dtype=float32))])\n",
            "Client dataset for LCLid MAC000319\n",
            "OrderedDict([('x', array([[0.483, 1.172, 0.266, ..., 0.122, 0.133, 0.126],\n",
            "       [0.156, 0.159, 0.159, ..., 0.148, 0.143, 0.148],\n",
            "       [0.346, 0.284, 0.238, ..., 0.075, 0.097, 0.064],\n",
            "       ...,\n",
            "       [0.066, 0.1  , 0.143, ..., 0.12 , 0.101, 0.261],\n",
            "       [0.249, 0.21 , 0.206, ..., 0.199, 0.182, 0.272],\n",
            "       [0.096, 0.13 , 0.117, ..., 0.112, 0.123, 0.096]], dtype=float32)), ('y', array([[0.108],\n",
            "       [0.198],\n",
            "       [0.089],\n",
            "       [0.092],\n",
            "       [0.11 ],\n",
            "       [0.081],\n",
            "       [0.12 ],\n",
            "       [0.123],\n",
            "       [0.12 ],\n",
            "       [0.198],\n",
            "       [0.199],\n",
            "       [0.124],\n",
            "       [0.067],\n",
            "       [0.121],\n",
            "       [0.135],\n",
            "       [0.134],\n",
            "       [0.114],\n",
            "       [0.15 ],\n",
            "       [0.183],\n",
            "       [0.098]], dtype=float32))])\n",
            "Client dataset for LCLid MAC000391\n",
            "OrderedDict([('x', array([[0.105, 0.139, 0.17 , ..., 0.168, 0.15 , 0.154],\n",
            "       [0.139, 0.17 , 0.146, ..., 0.15 , 0.154, 0.148],\n",
            "       [0.108, 0.105, 0.347, ..., 0.121, 0.099, 0.112],\n",
            "       ...,\n",
            "       [0.195, 0.146, 0.178, ..., 0.11 , 0.166, 0.164],\n",
            "       [0.114, 0.12 , 0.101, ..., 0.125, 0.168, 0.148],\n",
            "       [0.111, 0.103, 0.207, ..., 0.226, 0.174, 0.134]], dtype=float32)), ('y', array([[0.148],\n",
            "       [0.119],\n",
            "       [0.121],\n",
            "       [0.154],\n",
            "       [0.117],\n",
            "       [0.11 ],\n",
            "       [0.121],\n",
            "       [0.114],\n",
            "       [0.165],\n",
            "       [0.149],\n",
            "       [0.118],\n",
            "       [0.174],\n",
            "       [0.185],\n",
            "       [0.111],\n",
            "       [0.124],\n",
            "       [0.101],\n",
            "       [0.1  ],\n",
            "       [0.152],\n",
            "       [0.127],\n",
            "       [0.164]], dtype=float32))])\n"
          ]
        }
      ]
    },
    {
      "cell_type": "code",
      "source": [
        "# Iterate over unique LCLids in the dataframe\n",
        "client_datasets_13 = {}\n",
        "for LCLid in sample_clients_list:\n",
        "    # Filter the dataframe for the current LCLid\n",
        "    client_data = datan2[datan2['LCLid'] == LCLid]\n",
        "\n",
        "    clientxx_dataset = create_client_dataset_for_LCLid(client_data, window_size, step_size)\n",
        "    \n",
        "    # Create the client dataset for the current LCLid\n",
        "    preprocessed_client_dataset = preprocess_client_dataset(tf.data.Dataset.from_tensor_slices(clientxx_dataset))\n",
        "    \n",
        "    # Extract a sample batch from the preprocessed dataset\n",
        "    sam_batch = tf.nest.map_structure(lambda x: x.numpy(), next(iter(preprocessed_client_dataset)))\n",
        "    \n",
        "    # Store the preprocessed dataset in the dictionary with LCLid as the key\n",
        "    client_datasets_13[LCLid] = preprocessed_client_dataset\n",
        "\n"
      ],
      "metadata": {
        "id": "ikymqnslmyDg"
      },
      "execution_count": 123,
      "outputs": []
    },
    {
      "cell_type": "code",
      "source": [
        "def make_federated_data(client_datasets, sample_clients_list):\n",
        "    return [\n",
        "        client_datasets[x] for x in sample_clients_list\n",
        "    ]"
      ],
      "metadata": {
        "id": "NGeCXnk-m9Yh"
      },
      "execution_count": 124,
      "outputs": []
    },
    {
      "cell_type": "code",
      "source": [
        "federated_train_data_12 = make_federated_data(client_datasets_12, sample_clients)\n",
        "federated_train_data_13 = make_federated_data(client_datasets_13, sample_clients)"
      ],
      "metadata": {
        "id": "S04zyE5ZnDA8"
      },
      "execution_count": 125,
      "outputs": []
    },
    {
      "cell_type": "code",
      "source": [
        "print(f'Number of client datasets: {len(federated_train_data_12)}')\n",
        "print(f'First dataset: {federated_train_data_12[0]}')\n",
        "print(f'Second dataset: {federated_train_data_12[1]}')"
      ],
      "metadata": {
        "colab": {
          "base_uri": "https://localhost:8080/"
        },
        "id": "HaziRR-0nXE1",
        "outputId": "dc882693-ac66-4948-e59e-6c9904e421ad"
      },
      "execution_count": 126,
      "outputs": [
        {
          "output_type": "stream",
          "name": "stdout",
          "text": [
            "Number of client datasets: 10\n",
            "First dataset: <_PrefetchDataset element_spec=OrderedDict([('x', TensorSpec(shape=(None, 336), dtype=tf.float32, name=None)), ('y', TensorSpec(shape=(None, 1), dtype=tf.float32, name=None))])>\n",
            "Second dataset: <_PrefetchDataset element_spec=OrderedDict([('x', TensorSpec(shape=(None, 336), dtype=tf.float32, name=None)), ('y', TensorSpec(shape=(None, 1), dtype=tf.float32, name=None))])>\n"
          ]
        }
      ]
    },
    {
      "cell_type": "code",
      "source": [
        "preprocessed_example_client_dataset.element_spec"
      ],
      "metadata": {
        "colab": {
          "base_uri": "https://localhost:8080/"
        },
        "id": "66y3bqioncQc",
        "outputId": "38f5327b-0f0f-45f1-a416-f25fb79611b7"
      },
      "execution_count": 127,
      "outputs": [
        {
          "output_type": "execute_result",
          "data": {
            "text/plain": [
              "OrderedDict([('x', TensorSpec(shape=(None, 336), dtype=tf.float32, name=None)),\n",
              "             ('y', TensorSpec(shape=(None, 1), dtype=tf.float32, name=None))])"
            ]
          },
          "metadata": {},
          "execution_count": 127
        }
      ]
    },
    {
      "cell_type": "code",
      "source": [
        "def create_model():\n",
        "    model = tf.keras.Sequential([\n",
        "        tf.keras.layers.Dense(64, activation='relu', input_shape=(336,)),\n",
        "        tf.keras.layers.Dense(32, activation='relu'),\n",
        "        tf.keras.layers.Dense(1)\n",
        "    ])\n",
        "    return model"
      ],
      "metadata": {
        "id": "bf-6yGBvnfM9"
      },
      "execution_count": 128,
      "outputs": []
    },
    {
      "cell_type": "code",
      "source": [
        "def model_fn():\n",
        "    keras_model = create_model()\n",
        "    loss = tf.keras.losses.MeanSquaredError() \n",
        "    tff_model = tff.learning.models.from_keras_model(\n",
        "        keras_model,\n",
        "        input_spec=preprocessed_example_client_dataset.element_spec,\n",
        "        loss=loss,\n",
        "        metrics=[tf.keras.metrics.MeanAbsoluteError()]\n",
        "    )\n",
        "    return tff_model"
      ],
      "metadata": {
        "id": "VXxg-x9-nfoc"
      },
      "execution_count": 129,
      "outputs": []
    },
    {
      "cell_type": "code",
      "source": [
        "model = model_fn()\n",
        "print(model)"
      ],
      "metadata": {
        "colab": {
          "base_uri": "https://localhost:8080/"
        },
        "id": "WFteSfTcng8u",
        "outputId": "3d8c7fe3-fe49-4e63-ac2b-034fcb99b181"
      },
      "execution_count": 130,
      "outputs": [
        {
          "output_type": "stream",
          "name": "stdout",
          "text": [
            "<tensorflow_federated.python.learning.models.keras_utils._KerasModel object at 0x7ff272188370>\n"
          ]
        }
      ]
    },
    {
      "cell_type": "code",
      "source": [
        "# training starts\n",
        "training_process = tff.learning.algorithms.build_weighted_fed_avg(\n",
        "    model_fn,\n",
        "    client_optimizer_fn=lambda: tf.keras.optimizers.SGD(learning_rate=0.02),\n",
        "    server_optimizer_fn=lambda: tf.keras.optimizers.SGD(learning_rate=1.0))"
      ],
      "metadata": {
        "id": "GtfLlDbtniRN"
      },
      "execution_count": 131,
      "outputs": []
    },
    {
      "cell_type": "code",
      "source": [
        "print(training_process.initialize.type_signature.formatted_representation())"
      ],
      "metadata": {
        "colab": {
          "base_uri": "https://localhost:8080/"
        },
        "id": "fe7ot2ovo6Da",
        "outputId": "eb4694e5-fdd2-4940-a7b1-ab762263b9d7"
      },
      "execution_count": 132,
      "outputs": [
        {
          "output_type": "stream",
          "name": "stdout",
          "text": [
            "( -> <\n",
            "  global_model_weights=<\n",
            "    trainable=<\n",
            "      float32[336,64],\n",
            "      float32[64],\n",
            "      float32[64,32],\n",
            "      float32[32],\n",
            "      float32[32,1],\n",
            "      float32[1]\n",
            "    >,\n",
            "    non_trainable=<>\n",
            "  >,\n",
            "  distributor=<>,\n",
            "  client_work=<>,\n",
            "  aggregator=<\n",
            "    value_sum_process=<>,\n",
            "    weight_sum_process=<>\n",
            "  >,\n",
            "  finalizer=<\n",
            "    int64,\n",
            "    float32[336,64],\n",
            "    float32[64],\n",
            "    float32[64,32],\n",
            "    float32[32],\n",
            "    float32[32,1],\n",
            "    float32[1]\n",
            "  >\n",
            ">@SERVER)\n"
          ]
        }
      ]
    },
    {
      "cell_type": "code",
      "source": [
        "train_state = training_process.initialize()"
      ],
      "metadata": {
        "id": "NaFUD7VGnjko"
      },
      "execution_count": 133,
      "outputs": []
    },
    {
      "cell_type": "code",
      "source": [
        "federated_train_data_12"
      ],
      "metadata": {
        "colab": {
          "base_uri": "https://localhost:8080/"
        },
        "id": "nuAAYQ_anmjS",
        "outputId": "3ef0d0e5-03d3-48d4-bd1a-ee3edcf473ee"
      },
      "execution_count": 134,
      "outputs": [
        {
          "output_type": "execute_result",
          "data": {
            "text/plain": [
              "[<_PrefetchDataset element_spec=OrderedDict([('x', TensorSpec(shape=(None, 336), dtype=tf.float32, name=None)), ('y', TensorSpec(shape=(None, 1), dtype=tf.float32, name=None))])>,\n",
              " <_PrefetchDataset element_spec=OrderedDict([('x', TensorSpec(shape=(None, 336), dtype=tf.float32, name=None)), ('y', TensorSpec(shape=(None, 1), dtype=tf.float32, name=None))])>,\n",
              " <_PrefetchDataset element_spec=OrderedDict([('x', TensorSpec(shape=(None, 336), dtype=tf.float32, name=None)), ('y', TensorSpec(shape=(None, 1), dtype=tf.float32, name=None))])>,\n",
              " <_PrefetchDataset element_spec=OrderedDict([('x', TensorSpec(shape=(None, 336), dtype=tf.float32, name=None)), ('y', TensorSpec(shape=(None, 1), dtype=tf.float32, name=None))])>,\n",
              " <_PrefetchDataset element_spec=OrderedDict([('x', TensorSpec(shape=(None, 336), dtype=tf.float32, name=None)), ('y', TensorSpec(shape=(None, 1), dtype=tf.float32, name=None))])>,\n",
              " <_PrefetchDataset element_spec=OrderedDict([('x', TensorSpec(shape=(None, 336), dtype=tf.float32, name=None)), ('y', TensorSpec(shape=(None, 1), dtype=tf.float32, name=None))])>,\n",
              " <_PrefetchDataset element_spec=OrderedDict([('x', TensorSpec(shape=(None, 336), dtype=tf.float32, name=None)), ('y', TensorSpec(shape=(None, 1), dtype=tf.float32, name=None))])>,\n",
              " <_PrefetchDataset element_spec=OrderedDict([('x', TensorSpec(shape=(None, 336), dtype=tf.float32, name=None)), ('y', TensorSpec(shape=(None, 1), dtype=tf.float32, name=None))])>,\n",
              " <_PrefetchDataset element_spec=OrderedDict([('x', TensorSpec(shape=(None, 336), dtype=tf.float32, name=None)), ('y', TensorSpec(shape=(None, 1), dtype=tf.float32, name=None))])>,\n",
              " <_PrefetchDataset element_spec=OrderedDict([('x', TensorSpec(shape=(None, 336), dtype=tf.float32, name=None)), ('y', TensorSpec(shape=(None, 1), dtype=tf.float32, name=None))])>]"
            ]
          },
          "metadata": {},
          "execution_count": 134
        }
      ]
    },
    {
      "cell_type": "code",
      "source": [
        "federated_train_data_12"
      ],
      "metadata": {
        "colab": {
          "base_uri": "https://localhost:8080/"
        },
        "id": "fV6-wQ5eok6H",
        "outputId": "426b20fc-bea6-45d4-909d-9b13eb409e34"
      },
      "execution_count": 135,
      "outputs": [
        {
          "output_type": "execute_result",
          "data": {
            "text/plain": [
              "[<_PrefetchDataset element_spec=OrderedDict([('x', TensorSpec(shape=(None, 336), dtype=tf.float32, name=None)), ('y', TensorSpec(shape=(None, 1), dtype=tf.float32, name=None))])>,\n",
              " <_PrefetchDataset element_spec=OrderedDict([('x', TensorSpec(shape=(None, 336), dtype=tf.float32, name=None)), ('y', TensorSpec(shape=(None, 1), dtype=tf.float32, name=None))])>,\n",
              " <_PrefetchDataset element_spec=OrderedDict([('x', TensorSpec(shape=(None, 336), dtype=tf.float32, name=None)), ('y', TensorSpec(shape=(None, 1), dtype=tf.float32, name=None))])>,\n",
              " <_PrefetchDataset element_spec=OrderedDict([('x', TensorSpec(shape=(None, 336), dtype=tf.float32, name=None)), ('y', TensorSpec(shape=(None, 1), dtype=tf.float32, name=None))])>,\n",
              " <_PrefetchDataset element_spec=OrderedDict([('x', TensorSpec(shape=(None, 336), dtype=tf.float32, name=None)), ('y', TensorSpec(shape=(None, 1), dtype=tf.float32, name=None))])>,\n",
              " <_PrefetchDataset element_spec=OrderedDict([('x', TensorSpec(shape=(None, 336), dtype=tf.float32, name=None)), ('y', TensorSpec(shape=(None, 1), dtype=tf.float32, name=None))])>,\n",
              " <_PrefetchDataset element_spec=OrderedDict([('x', TensorSpec(shape=(None, 336), dtype=tf.float32, name=None)), ('y', TensorSpec(shape=(None, 1), dtype=tf.float32, name=None))])>,\n",
              " <_PrefetchDataset element_spec=OrderedDict([('x', TensorSpec(shape=(None, 336), dtype=tf.float32, name=None)), ('y', TensorSpec(shape=(None, 1), dtype=tf.float32, name=None))])>,\n",
              " <_PrefetchDataset element_spec=OrderedDict([('x', TensorSpec(shape=(None, 336), dtype=tf.float32, name=None)), ('y', TensorSpec(shape=(None, 1), dtype=tf.float32, name=None))])>,\n",
              " <_PrefetchDataset element_spec=OrderedDict([('x', TensorSpec(shape=(None, 336), dtype=tf.float32, name=None)), ('y', TensorSpec(shape=(None, 1), dtype=tf.float32, name=None))])>]"
            ]
          },
          "metadata": {},
          "execution_count": 135
        }
      ]
    },
    {
      "cell_type": "code",
      "source": [
        "result = training_process.next(train_state, federated_train_data_12)\n",
        "train_state = result.state\n",
        "train_metrics = result.metrics\n",
        "print('round  1, metrics={}'.format(train_metrics))"
      ],
      "metadata": {
        "colab": {
          "base_uri": "https://localhost:8080/"
        },
        "id": "XkEwWtE-nudB",
        "outputId": "73719624-e030-473f-c46d-d062ca29b247"
      },
      "execution_count": 136,
      "outputs": [
        {
          "output_type": "stream",
          "name": "stdout",
          "text": [
            "round  1, metrics=OrderedDict([('distributor', ()), ('client_work', OrderedDict([('train', OrderedDict([('mean_absolute_error', 0.08946611), ('loss', 0.028399965), ('num_examples', 781350), ('num_batches', 39073)]))])), ('aggregator', OrderedDict([('mean_value', ()), ('mean_weight', ())])), ('finalizer', OrderedDict([('update_non_finite', 0)]))])\n"
          ]
        }
      ]
    },
    {
      "cell_type": "code",
      "source": [
        "NUM_ROUNDS = 6\n",
        "for round_num in range(2, NUM_ROUNDS):\n",
        "  result = training_process.next(train_state, federated_train_data_12)\n",
        "  train_state = result.state\n",
        "  train_metrics = result.metrics\n",
        "  print('round {:2d}, metrics={}'.format(round_num, train_metrics))"
      ],
      "metadata": {
        "colab": {
          "base_uri": "https://localhost:8080/"
        },
        "id": "rZtKUkSMp_5m",
        "outputId": "78788935-7579-487b-830d-37be5c6f3624"
      },
      "execution_count": 137,
      "outputs": [
        {
          "output_type": "stream",
          "name": "stdout",
          "text": [
            "round  2, metrics=OrderedDict([('distributor', ()), ('client_work', OrderedDict([('train', OrderedDict([('mean_absolute_error', 0.08241468), ('loss', 0.025845122), ('num_examples', 781350), ('num_batches', 39073)]))])), ('aggregator', OrderedDict([('mean_value', ()), ('mean_weight', ())])), ('finalizer', OrderedDict([('update_non_finite', 0)]))])\n",
            "round  3, metrics=OrderedDict([('distributor', ()), ('client_work', OrderedDict([('train', OrderedDict([('mean_absolute_error', 0.07916815), ('loss', 0.024746662), ('num_examples', 781350), ('num_batches', 39073)]))])), ('aggregator', OrderedDict([('mean_value', ()), ('mean_weight', ())])), ('finalizer', OrderedDict([('update_non_finite', 0)]))])\n",
            "round  4, metrics=OrderedDict([('distributor', ()), ('client_work', OrderedDict([('train', OrderedDict([('mean_absolute_error', 0.07726406), ('loss', 0.024137653), ('num_examples', 781350), ('num_batches', 39073)]))])), ('aggregator', OrderedDict([('mean_value', ()), ('mean_weight', ())])), ('finalizer', OrderedDict([('update_non_finite', 0)]))])\n",
            "round  5, metrics=OrderedDict([('distributor', ()), ('client_work', OrderedDict([('train', OrderedDict([('mean_absolute_error', 0.07601997), ('loss', 0.023751024), ('num_examples', 781350), ('num_batches', 39073)]))])), ('aggregator', OrderedDict([('mean_value', ()), ('mean_weight', ())])), ('finalizer', OrderedDict([('update_non_finite', 0)]))])\n"
          ]
        }
      ]
    },
    {
      "cell_type": "code",
      "source": [
        "# Filter the DataFrame to include readings from Jan 01, 2014, to Jan 31, 2014\n",
        "teststart_date = pd.to_datetime('2014-01-01')\n",
        "testend_date = pd.to_datetime('2014-01-31')\n",
        "test_data = data[(data['DateTime'] >= start_date1) & (data['DateTime'] <= end_date1)]"
      ],
      "metadata": {
        "id": "-ychx-mjq_dA"
      },
      "execution_count": 138,
      "outputs": []
    },
    {
      "cell_type": "code",
      "source": [
        "# Select 5 unique LCLids\n",
        "lclid_lt = test_data['LCLid'].unique()\n",
        "sel_lclids = lclid_lt[2:3]\n",
        "\n",
        "print(sel_lclids)\n",
        "# # Filter data for the selected LCLids\n",
        "ft_data = test_data[test_data['LCLid'].isin(sel_lclids)]"
      ],
      "metadata": {
        "colab": {
          "base_uri": "https://localhost:8080/"
        },
        "id": "IIzGp75mrHg4",
        "outputId": "914606cf-e52b-40e1-ff5d-6fd3ba9f9f20"
      },
      "execution_count": 139,
      "outputs": [
        {
          "output_type": "stream",
          "name": "stdout",
          "text": [
            "['MAC000104']\n"
          ]
        }
      ]
    },
    {
      "cell_type": "code",
      "source": [
        "ft_data['KWH/hh'] = ft_data['KWH/hh'].astype(np.float32)"
      ],
      "metadata": {
        "colab": {
          "base_uri": "https://localhost:8080/"
        },
        "id": "CTOp9rJ7rJL2",
        "outputId": "9b5a560a-8b0f-4ec6-d76a-aee6da127b81"
      },
      "execution_count": 140,
      "outputs": [
        {
          "output_type": "stream",
          "name": "stderr",
          "text": [
            "<ipython-input-140-398836f43ad2>:1: SettingWithCopyWarning: \n",
            "A value is trying to be set on a copy of a slice from a DataFrame.\n",
            "Try using .loc[row_indexer,col_indexer] = value instead\n",
            "\n",
            "See the caveats in the documentation: https://pandas.pydata.org/pandas-docs/stable/user_guide/indexing.html#returning-a-view-versus-a-copy\n",
            "  ft_data['KWH/hh'] = ft_data['KWH/hh'].astype(np.float32)\n"
          ]
        }
      ]
    },
    {
      "cell_type": "code",
      "source": [
        "ft_data = ft_data.drop('cluster', axis=1)\n",
        "ft_data = ft_data.drop('stdorToU', axis=1)\n",
        "ft_data.reset_index(drop=True, inplace=True)"
      ],
      "metadata": {
        "id": "4qTWEWG2rMmr"
      },
      "execution_count": 141,
      "outputs": []
    },
    {
      "cell_type": "code",
      "source": [
        "ft_data['DateTime'] = pd.to_datetime(ft_data.DateTime).dt.tz_localize(None)\n",
        "for i in range(len(ft_data)):\n",
        "  ft_data['DateTime'][i]=ft_data['DateTime'][i].timestamp()"
      ],
      "metadata": {
        "colab": {
          "base_uri": "https://localhost:8080/"
        },
        "id": "yFtVm2PMrOeT",
        "outputId": "9db38236-89b0-49e7-b9ec-97dbcd1a24f6"
      },
      "execution_count": 142,
      "outputs": [
        {
          "output_type": "stream",
          "name": "stderr",
          "text": [
            "<ipython-input-142-fe80fcc7ed1b>:3: SettingWithCopyWarning: \n",
            "A value is trying to be set on a copy of a slice from a DataFrame\n",
            "\n",
            "See the caveats in the documentation: https://pandas.pydata.org/pandas-docs/stable/user_guide/indexing.html#returning-a-view-versus-a-copy\n",
            "  ft_data['DateTime'][i]=ft_data['DateTime'][i].timestamp()\n"
          ]
        }
      ]
    },
    {
      "cell_type": "code",
      "source": [
        "ft_data['DateTime'] = ft_data['DateTime'].astype(np.float32)"
      ],
      "metadata": {
        "id": "Jxjl_9EkrQDD"
      },
      "execution_count": 143,
      "outputs": []
    },
    {
      "cell_type": "code",
      "source": [
        "# Sort the data by 'LCLid' and 'DateTime'\n",
        "ft_data.sort_values(['LCLid', 'DateTime'], inplace=True)"
      ],
      "metadata": {
        "id": "hBXTovZErR94"
      },
      "execution_count": 144,
      "outputs": []
    },
    {
      "cell_type": "code",
      "source": [
        "ft_data"
      ],
      "metadata": {
        "colab": {
          "base_uri": "https://localhost:8080/",
          "height": 424
        },
        "id": "kJgBJoCLsrJk",
        "outputId": "1a1f9132-cae9-4208-b627-2336910315f7"
      },
      "execution_count": 145,
      "outputs": [
        {
          "output_type": "execute_result",
          "data": {
            "text/plain": [
              "           LCLid      DateTime  KWH/hh\n",
              "0      MAC000104  1.325376e+09   0.051\n",
              "1      MAC000104  1.325378e+09   0.052\n",
              "2      MAC000104  1.325380e+09   0.136\n",
              "3      MAC000104  1.325381e+09   0.151\n",
              "4      MAC000104  1.325383e+09   0.112\n",
              "...          ...           ...     ...\n",
              "17521  MAC000104  1.356905e+09   0.282\n",
              "17522  MAC000104  1.356907e+09   0.311\n",
              "17523  MAC000104  1.356908e+09   0.297\n",
              "17524  MAC000104  1.356910e+09   0.242\n",
              "17525  MAC000104  1.356912e+09   0.209\n",
              "\n",
              "[17526 rows x 3 columns]"
            ],
            "text/html": [
              "\n",
              "  <div id=\"df-ea94ac2a-c457-42ca-9abe-527d0dcb3b0f\">\n",
              "    <div class=\"colab-df-container\">\n",
              "      <div>\n",
              "<style scoped>\n",
              "    .dataframe tbody tr th:only-of-type {\n",
              "        vertical-align: middle;\n",
              "    }\n",
              "\n",
              "    .dataframe tbody tr th {\n",
              "        vertical-align: top;\n",
              "    }\n",
              "\n",
              "    .dataframe thead th {\n",
              "        text-align: right;\n",
              "    }\n",
              "</style>\n",
              "<table border=\"1\" class=\"dataframe\">\n",
              "  <thead>\n",
              "    <tr style=\"text-align: right;\">\n",
              "      <th></th>\n",
              "      <th>LCLid</th>\n",
              "      <th>DateTime</th>\n",
              "      <th>KWH/hh</th>\n",
              "    </tr>\n",
              "  </thead>\n",
              "  <tbody>\n",
              "    <tr>\n",
              "      <th>0</th>\n",
              "      <td>MAC000104</td>\n",
              "      <td>1.325376e+09</td>\n",
              "      <td>0.051</td>\n",
              "    </tr>\n",
              "    <tr>\n",
              "      <th>1</th>\n",
              "      <td>MAC000104</td>\n",
              "      <td>1.325378e+09</td>\n",
              "      <td>0.052</td>\n",
              "    </tr>\n",
              "    <tr>\n",
              "      <th>2</th>\n",
              "      <td>MAC000104</td>\n",
              "      <td>1.325380e+09</td>\n",
              "      <td>0.136</td>\n",
              "    </tr>\n",
              "    <tr>\n",
              "      <th>3</th>\n",
              "      <td>MAC000104</td>\n",
              "      <td>1.325381e+09</td>\n",
              "      <td>0.151</td>\n",
              "    </tr>\n",
              "    <tr>\n",
              "      <th>4</th>\n",
              "      <td>MAC000104</td>\n",
              "      <td>1.325383e+09</td>\n",
              "      <td>0.112</td>\n",
              "    </tr>\n",
              "    <tr>\n",
              "      <th>...</th>\n",
              "      <td>...</td>\n",
              "      <td>...</td>\n",
              "      <td>...</td>\n",
              "    </tr>\n",
              "    <tr>\n",
              "      <th>17521</th>\n",
              "      <td>MAC000104</td>\n",
              "      <td>1.356905e+09</td>\n",
              "      <td>0.282</td>\n",
              "    </tr>\n",
              "    <tr>\n",
              "      <th>17522</th>\n",
              "      <td>MAC000104</td>\n",
              "      <td>1.356907e+09</td>\n",
              "      <td>0.311</td>\n",
              "    </tr>\n",
              "    <tr>\n",
              "      <th>17523</th>\n",
              "      <td>MAC000104</td>\n",
              "      <td>1.356908e+09</td>\n",
              "      <td>0.297</td>\n",
              "    </tr>\n",
              "    <tr>\n",
              "      <th>17524</th>\n",
              "      <td>MAC000104</td>\n",
              "      <td>1.356910e+09</td>\n",
              "      <td>0.242</td>\n",
              "    </tr>\n",
              "    <tr>\n",
              "      <th>17525</th>\n",
              "      <td>MAC000104</td>\n",
              "      <td>1.356912e+09</td>\n",
              "      <td>0.209</td>\n",
              "    </tr>\n",
              "  </tbody>\n",
              "</table>\n",
              "<p>17526 rows × 3 columns</p>\n",
              "</div>\n",
              "      <button class=\"colab-df-convert\" onclick=\"convertToInteractive('df-ea94ac2a-c457-42ca-9abe-527d0dcb3b0f')\"\n",
              "              title=\"Convert this dataframe to an interactive table.\"\n",
              "              style=\"display:none;\">\n",
              "        \n",
              "  <svg xmlns=\"http://www.w3.org/2000/svg\" height=\"24px\"viewBox=\"0 0 24 24\"\n",
              "       width=\"24px\">\n",
              "    <path d=\"M0 0h24v24H0V0z\" fill=\"none\"/>\n",
              "    <path d=\"M18.56 5.44l.94 2.06.94-2.06 2.06-.94-2.06-.94-.94-2.06-.94 2.06-2.06.94zm-11 1L8.5 8.5l.94-2.06 2.06-.94-2.06-.94L8.5 2.5l-.94 2.06-2.06.94zm10 10l.94 2.06.94-2.06 2.06-.94-2.06-.94-.94-2.06-.94 2.06-2.06.94z\"/><path d=\"M17.41 7.96l-1.37-1.37c-.4-.4-.92-.59-1.43-.59-.52 0-1.04.2-1.43.59L10.3 9.45l-7.72 7.72c-.78.78-.78 2.05 0 2.83L4 21.41c.39.39.9.59 1.41.59.51 0 1.02-.2 1.41-.59l7.78-7.78 2.81-2.81c.8-.78.8-2.07 0-2.86zM5.41 20L4 18.59l7.72-7.72 1.47 1.35L5.41 20z\"/>\n",
              "  </svg>\n",
              "      </button>\n",
              "      \n",
              "  <style>\n",
              "    .colab-df-container {\n",
              "      display:flex;\n",
              "      flex-wrap:wrap;\n",
              "      gap: 12px;\n",
              "    }\n",
              "\n",
              "    .colab-df-convert {\n",
              "      background-color: #E8F0FE;\n",
              "      border: none;\n",
              "      border-radius: 50%;\n",
              "      cursor: pointer;\n",
              "      display: none;\n",
              "      fill: #1967D2;\n",
              "      height: 32px;\n",
              "      padding: 0 0 0 0;\n",
              "      width: 32px;\n",
              "    }\n",
              "\n",
              "    .colab-df-convert:hover {\n",
              "      background-color: #E2EBFA;\n",
              "      box-shadow: 0px 1px 2px rgba(60, 64, 67, 0.3), 0px 1px 3px 1px rgba(60, 64, 67, 0.15);\n",
              "      fill: #174EA6;\n",
              "    }\n",
              "\n",
              "    [theme=dark] .colab-df-convert {\n",
              "      background-color: #3B4455;\n",
              "      fill: #D2E3FC;\n",
              "    }\n",
              "\n",
              "    [theme=dark] .colab-df-convert:hover {\n",
              "      background-color: #434B5C;\n",
              "      box-shadow: 0px 1px 3px 1px rgba(0, 0, 0, 0.15);\n",
              "      filter: drop-shadow(0px 1px 2px rgba(0, 0, 0, 0.3));\n",
              "      fill: #FFFFFF;\n",
              "    }\n",
              "  </style>\n",
              "\n",
              "      <script>\n",
              "        const buttonEl =\n",
              "          document.querySelector('#df-ea94ac2a-c457-42ca-9abe-527d0dcb3b0f button.colab-df-convert');\n",
              "        buttonEl.style.display =\n",
              "          google.colab.kernel.accessAllowed ? 'block' : 'none';\n",
              "\n",
              "        async function convertToInteractive(key) {\n",
              "          const element = document.querySelector('#df-ea94ac2a-c457-42ca-9abe-527d0dcb3b0f');\n",
              "          const dataTable =\n",
              "            await google.colab.kernel.invokeFunction('convertToInteractive',\n",
              "                                                     [key], {});\n",
              "          if (!dataTable) return;\n",
              "\n",
              "          const docLinkHtml = 'Like what you see? Visit the ' +\n",
              "            '<a target=\"_blank\" href=https://colab.research.google.com/notebooks/data_table.ipynb>data table notebook</a>'\n",
              "            + ' to learn more about interactive tables.';\n",
              "          element.innerHTML = '';\n",
              "          dataTable['output_type'] = 'display_data';\n",
              "          await google.colab.output.renderOutput(dataTable, element);\n",
              "          const docLink = document.createElement('div');\n",
              "          docLink.innerHTML = docLinkHtml;\n",
              "          element.appendChild(docLink);\n",
              "        }\n",
              "      </script>\n",
              "    </div>\n",
              "  </div>\n",
              "  "
            ]
          },
          "metadata": {},
          "execution_count": 145
        }
      ]
    },
    {
      "cell_type": "code",
      "source": [
        "test_client = ft_data['LCLid'].unique()\n",
        "test_client "
      ],
      "metadata": {
        "colab": {
          "base_uri": "https://localhost:8080/"
        },
        "id": "i3Ijdo0ArTjj",
        "outputId": "00173584-d014-454b-c5b0-d422bb7f25ce"
      },
      "execution_count": 146,
      "outputs": [
        {
          "output_type": "execute_result",
          "data": {
            "text/plain": [
              "array(['MAC000104'], dtype=object)"
            ]
          },
          "metadata": {},
          "execution_count": 146
        }
      ]
    },
    {
      "cell_type": "code",
      "source": [
        "test_dataset = {}\n",
        "\n",
        "for LCLid in test_client:\n",
        "    # Filter the dataframe for the current LCLid\n",
        "    client_data = ft_data[ft_data['LCLid'] == LCLid]\n",
        "\n",
        "    clientxx_dataset = create_client_dataset_for_LCLid(client_data, window_size, step_size)\n",
        "    \n",
        "    # Create the client dataset for the current LCLid\n",
        "    preprocessed_client_dataset = preprocess_client_dataset(tf.data.Dataset.from_tensor_slices(clientxx_dataset))\n",
        "    \n",
        "    # Extract a sample batch from the preprocessed dataset\n",
        "    sam_batch = tf.nest.map_structure(lambda x: x.numpy(), next(iter(preprocessed_client_dataset)))\n",
        "    \n",
        "    # Store the preprocessed dataset in the dictionary with LCLid as the key\n",
        "    test_dataset[LCLid] = preprocessed_client_dataset\n",
        "\n",
        "    print(\"Client dataset for LCLid\", LCLid)\n",
        "    print(sam_batch)"
      ],
      "metadata": {
        "colab": {
          "base_uri": "https://localhost:8080/"
        },
        "id": "YJjN5nRIrV5i",
        "outputId": "25243743-43cb-41da-926d-2cb12f331c4c"
      },
      "execution_count": 147,
      "outputs": [
        {
          "output_type": "stream",
          "name": "stdout",
          "text": [
            "Client dataset for LCLid MAC000104\n",
            "OrderedDict([('x', array([[0.054, 0.105, 0.119, ..., 0.083, 0.082, 0.043],\n",
            "       [0.162, 0.423, 0.479, ..., 0.372, 0.31 , 0.366],\n",
            "       [1.283, 0.537, 0.398, ..., 0.43 , 0.42 , 0.327],\n",
            "       ...,\n",
            "       [0.123, 0.103, 0.099, ..., 0.098, 0.097, 0.097],\n",
            "       [0.045, 0.113, 0.123, ..., 0.096, 0.098, 0.098],\n",
            "       [0.272, 0.132, 0.108, ..., 0.177, 0.218, 0.194]], dtype=float32)), ('y', array([[0.033],\n",
            "       [0.558],\n",
            "       [0.473],\n",
            "       [0.083],\n",
            "       [0.097],\n",
            "       [0.134],\n",
            "       [0.337],\n",
            "       [0.174],\n",
            "       [0.366],\n",
            "       [0.033],\n",
            "       [0.066],\n",
            "       [0.366],\n",
            "       [0.085],\n",
            "       [0.096],\n",
            "       [0.11 ],\n",
            "       [0.31 ],\n",
            "       [0.275],\n",
            "       [0.074],\n",
            "       [0.097],\n",
            "       [0.371]], dtype=float32))])\n"
          ]
        }
      ]
    },
    {
      "cell_type": "code",
      "source": [
        "# Make federated test data\n",
        "federated_test_data = make_federated_data(test_dataset, test_client)"
      ],
      "metadata": {
        "id": "sqsjZc8_rhSX"
      },
      "execution_count": 148,
      "outputs": []
    },
    {
      "cell_type": "code",
      "source": [
        "evaluation_process = tff.learning.algorithms.build_fed_eval(model_fn)"
      ],
      "metadata": {
        "id": "4rws_PNgrirh"
      },
      "execution_count": 149,
      "outputs": []
    },
    {
      "cell_type": "code",
      "source": [
        "print(evaluation_process.next.type_signature.formatted_representation())"
      ],
      "metadata": {
        "colab": {
          "base_uri": "https://localhost:8080/"
        },
        "id": "cow24lLhsDKq",
        "outputId": "712ce101-59fc-42ad-e820-8a95f44dcaf6"
      },
      "execution_count": 150,
      "outputs": [
        {
          "output_type": "stream",
          "name": "stdout",
          "text": [
            "(<\n",
            "  state=<\n",
            "    global_model_weights=<\n",
            "      trainable=<\n",
            "        float32[336,64],\n",
            "        float32[64],\n",
            "        float32[64,32],\n",
            "        float32[32],\n",
            "        float32[32,1],\n",
            "        float32[1]\n",
            "      >,\n",
            "      non_trainable=<>\n",
            "    >,\n",
            "    distributor=<>,\n",
            "    client_work=<\n",
            "      <>,\n",
            "      <\n",
            "        mean_absolute_error=<\n",
            "          float32,\n",
            "          float32\n",
            "        >,\n",
            "        loss=<\n",
            "          float32,\n",
            "          float32\n",
            "        >,\n",
            "        num_examples=<\n",
            "          int64\n",
            "        >,\n",
            "        num_batches=<\n",
            "          int64\n",
            "        >\n",
            "      >\n",
            "    >,\n",
            "    aggregator=<\n",
            "      value_sum_process=<>,\n",
            "      weight_sum_process=<>\n",
            "    >,\n",
            "    finalizer=<>\n",
            "  >@SERVER,\n",
            "  client_data={<\n",
            "    x=float32[?,336],\n",
            "    y=float32[?,1]\n",
            "  >*}@CLIENTS\n",
            "> -> <\n",
            "  state=<\n",
            "    global_model_weights=<\n",
            "      trainable=<\n",
            "        float32[336,64],\n",
            "        float32[64],\n",
            "        float32[64,32],\n",
            "        float32[32],\n",
            "        float32[32,1],\n",
            "        float32[1]\n",
            "      >,\n",
            "      non_trainable=<>\n",
            "    >,\n",
            "    distributor=<>,\n",
            "    client_work=<\n",
            "      <>,\n",
            "      <\n",
            "        mean_absolute_error=<\n",
            "          float32,\n",
            "          float32\n",
            "        >,\n",
            "        loss=<\n",
            "          float32,\n",
            "          float32\n",
            "        >,\n",
            "        num_examples=<\n",
            "          int64\n",
            "        >,\n",
            "        num_batches=<\n",
            "          int64\n",
            "        >\n",
            "      >\n",
            "    >,\n",
            "    aggregator=<\n",
            "      value_sum_process=<>,\n",
            "      weight_sum_process=<>\n",
            "    >,\n",
            "    finalizer=<>\n",
            "  >@SERVER,\n",
            "  metrics=<\n",
            "    distributor=<>,\n",
            "    client_work=<\n",
            "      eval=<\n",
            "        current_round_metrics=<\n",
            "          mean_absolute_error=float32,\n",
            "          loss=float32,\n",
            "          num_examples=int64,\n",
            "          num_batches=int64\n",
            "        >,\n",
            "        total_rounds_metrics=<\n",
            "          mean_absolute_error=float32,\n",
            "          loss=float32,\n",
            "          num_examples=int64,\n",
            "          num_batches=int64\n",
            "        >\n",
            "      >\n",
            "    >,\n",
            "    aggregator=<\n",
            "      mean_value=<>,\n",
            "      mean_weight=<>\n",
            "    >,\n",
            "    finalizer=<>\n",
            "  >@SERVER\n",
            ">)\n"
          ]
        }
      ]
    },
    {
      "cell_type": "code",
      "source": [
        "evaluation_state = evaluation_process.initialize()\n",
        "model_weights = training_process.get_model_weights(train_state)\n",
        "evaluation_state = evaluation_process.set_model_weights(evaluation_state, model_weights)"
      ],
      "metadata": {
        "id": "vwmwQWjsrlXk"
      },
      "execution_count": 151,
      "outputs": []
    },
    {
      "cell_type": "code",
      "source": [
        "evaluation_output = evaluation_process.next(evaluation_state, federated_test_data)"
      ],
      "metadata": {
        "id": "KKHfMgVjrm9K"
      },
      "execution_count": 152,
      "outputs": []
    },
    {
      "cell_type": "code",
      "source": [
        "str(evaluation_output.metrics)"
      ],
      "metadata": {
        "colab": {
          "base_uri": "https://localhost:8080/",
          "height": 69
        },
        "id": "AJgQ7wf2roRd",
        "outputId": "cfa3ac4e-0161-4a4e-b531-e1d4ac28e4c4"
      },
      "execution_count": 153,
      "outputs": [
        {
          "output_type": "execute_result",
          "data": {
            "text/plain": [
              "\"OrderedDict([('distributor', ()), ('client_work', OrderedDict([('eval', OrderedDict([('current_round_metrics', OrderedDict([('mean_absolute_error', 0.08888001), ('loss', 0.02648883), ('num_examples', 85950), ('num_batches', 4298)])), ('total_rounds_metrics', OrderedDict([('mean_absolute_error', 0.08888001), ('loss', 0.02648883), ('num_examples', 85950), ('num_batches', 4298)]))]))])), ('aggregator', OrderedDict([('mean_value', ()), ('mean_weight', ())])), ('finalizer', ())])\""
            ],
            "application/vnd.google.colaboratory.intrinsic+json": {
              "type": "string"
            }
          },
          "metadata": {},
          "execution_count": 153
        }
      ]
    },
    {
      "cell_type": "code",
      "source": [
        "NUM_ROUNDS = 6\n",
        "for round_num in range(1, NUM_ROUNDS):\n",
        "  result = training_process.next(train_state, federated_train_data_13)\n",
        "  train_state = result.state\n",
        "  train_metrics = result.metrics\n",
        "  print('round {:2d}, metrics={}'.format(round_num, train_metrics))"
      ],
      "metadata": {
        "colab": {
          "base_uri": "https://localhost:8080/"
        },
        "id": "uQsl93ZUupP0",
        "outputId": "a2ac99ab-74ab-4bbf-c5db-acd5aa57d32e"
      },
      "execution_count": 154,
      "outputs": [
        {
          "output_type": "stream",
          "name": "stdout",
          "text": [
            "round  1, metrics=OrderedDict([('distributor', ()), ('client_work', OrderedDict([('train', OrderedDict([('mean_absolute_error', 0.076887876), ('loss', 0.023536151), ('num_examples', 857185), ('num_batches', 42862)]))])), ('aggregator', OrderedDict([('mean_value', ()), ('mean_weight', ())])), ('finalizer', OrderedDict([('update_non_finite', 0)]))])\n",
            "round  2, metrics=OrderedDict([('distributor', ()), ('client_work', OrderedDict([('train', OrderedDict([('mean_absolute_error', 0.07556862), ('loss', 0.023088805), ('num_examples', 857185), ('num_batches', 42862)]))])), ('aggregator', OrderedDict([('mean_value', ()), ('mean_weight', ())])), ('finalizer', OrderedDict([('update_non_finite', 0)]))])\n",
            "round  3, metrics=OrderedDict([('distributor', ()), ('client_work', OrderedDict([('train', OrderedDict([('mean_absolute_error', 0.07469604), ('loss', 0.022808697), ('num_examples', 857185), ('num_batches', 42862)]))])), ('aggregator', OrderedDict([('mean_value', ()), ('mean_weight', ())])), ('finalizer', OrderedDict([('update_non_finite', 0)]))])\n",
            "round  4, metrics=OrderedDict([('distributor', ()), ('client_work', OrderedDict([('train', OrderedDict([('mean_absolute_error', 0.07400231), ('loss', 0.022547763), ('num_examples', 857185), ('num_batches', 42862)]))])), ('aggregator', OrderedDict([('mean_value', ()), ('mean_weight', ())])), ('finalizer', OrderedDict([('update_non_finite', 0)]))])\n",
            "round  5, metrics=OrderedDict([('distributor', ()), ('client_work', OrderedDict([('train', OrderedDict([('mean_absolute_error', 0.07351409), ('loss', 0.022365661), ('num_examples', 857185), ('num_batches', 42862)]))])), ('aggregator', OrderedDict([('mean_value', ()), ('mean_weight', ())])), ('finalizer', OrderedDict([('update_non_finite', 0)]))])\n"
          ]
        }
      ]
    },
    {
      "cell_type": "code",
      "source": [
        "evaluation_process2 = tff.learning.algorithms.build_fed_eval(model_fn)"
      ],
      "metadata": {
        "id": "4PLdhuzsuxQY"
      },
      "execution_count": 155,
      "outputs": []
    },
    {
      "cell_type": "code",
      "source": [
        "evaluation_state2 = evaluation_process2.initialize()\n",
        "model_weights = training_process.get_model_weights(train_state)\n",
        "evaluation_state2 = evaluation_process2.set_model_weights(evaluation_state2, model_weights)"
      ],
      "metadata": {
        "id": "_lOpbxbau2Ft"
      },
      "execution_count": 156,
      "outputs": []
    },
    {
      "cell_type": "code",
      "source": [
        "evaluation_output2 = evaluation_process2.next(evaluation_state2, federated_test_data)"
      ],
      "metadata": {
        "id": "SxB5LPxqu_IK"
      },
      "execution_count": 157,
      "outputs": []
    },
    {
      "cell_type": "code",
      "source": [
        "str(evaluation_output2.metrics)"
      ],
      "metadata": {
        "colab": {
          "base_uri": "https://localhost:8080/",
          "height": 69
        },
        "id": "Dv4eVD_RvB3Z",
        "outputId": "852ab8df-e1d9-4c50-975f-638be3e23ffe"
      },
      "execution_count": 158,
      "outputs": [
        {
          "output_type": "execute_result",
          "data": {
            "text/plain": [
              "\"OrderedDict([('distributor', ()), ('client_work', OrderedDict([('eval', OrderedDict([('current_round_metrics', OrderedDict([('mean_absolute_error', 0.0828848), ('loss', 0.025040235), ('num_examples', 85950), ('num_batches', 4298)])), ('total_rounds_metrics', OrderedDict([('mean_absolute_error', 0.0828848), ('loss', 0.025040235), ('num_examples', 85950), ('num_batches', 4298)]))]))])), ('aggregator', OrderedDict([('mean_value', ()), ('mean_weight', ())])), ('finalizer', ())])\""
            ],
            "application/vnd.google.colaboratory.intrinsic+json": {
              "type": "string"
            }
          },
          "metadata": {},
          "execution_count": 158
        }
      ]
    },
    {
      "cell_type": "code",
      "source": [
        "str(evaluation_output.metrics)"
      ],
      "metadata": {
        "colab": {
          "base_uri": "https://localhost:8080/",
          "height": 69
        },
        "id": "YFZwgZfWwAF6",
        "outputId": "8651f71e-7929-42a9-8f4c-827db5f402cb"
      },
      "execution_count": 159,
      "outputs": [
        {
          "output_type": "execute_result",
          "data": {
            "text/plain": [
              "\"OrderedDict([('distributor', ()), ('client_work', OrderedDict([('eval', OrderedDict([('current_round_metrics', OrderedDict([('mean_absolute_error', 0.08888001), ('loss', 0.02648883), ('num_examples', 85950), ('num_batches', 4298)])), ('total_rounds_metrics', OrderedDict([('mean_absolute_error', 0.08888001), ('loss', 0.02648883), ('num_examples', 85950), ('num_batches', 4298)]))]))])), ('aggregator', OrderedDict([('mean_value', ()), ('mean_weight', ())])), ('finalizer', ())])\""
            ],
            "application/vnd.google.colaboratory.intrinsic+json": {
              "type": "string"
            }
          },
          "metadata": {},
          "execution_count": 159
        }
      ]
    }
  ]
}