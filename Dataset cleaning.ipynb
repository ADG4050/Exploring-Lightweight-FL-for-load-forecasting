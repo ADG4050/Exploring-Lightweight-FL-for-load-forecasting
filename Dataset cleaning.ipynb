{
 "cells": [
  {
   "cell_type": "code",
   "execution_count": 3,
   "metadata": {},
   "outputs": [],
   "source": [
    "import numpy as np\n",
    "import pandas as pd"
   ]
  },
  {
   "cell_type": "code",
   "execution_count": 4,
   "metadata": {},
   "outputs": [],
   "source": [
    "data=pd.read_csv('C:/Users/aduttagu/Desktop/Msc-Thesis/LCL-FullData/CC_LCL-FullData.csv')  "
   ]
  },
  {
   "cell_type": "code",
   "execution_count": 5,
   "metadata": {},
   "outputs": [
    {
     "data": {
      "text/html": [
       "<div>\n",
       "<style scoped>\n",
       "    .dataframe tbody tr th:only-of-type {\n",
       "        vertical-align: middle;\n",
       "    }\n",
       "\n",
       "    .dataframe tbody tr th {\n",
       "        vertical-align: top;\n",
       "    }\n",
       "\n",
       "    .dataframe thead th {\n",
       "        text-align: right;\n",
       "    }\n",
       "</style>\n",
       "<table border=\"1\" class=\"dataframe\">\n",
       "  <thead>\n",
       "    <tr style=\"text-align: right;\">\n",
       "      <th></th>\n",
       "      <th>LCLid</th>\n",
       "      <th>stdorToU</th>\n",
       "      <th>DateTime</th>\n",
       "      <th>KWH/hh (per half hour)</th>\n",
       "    </tr>\n",
       "  </thead>\n",
       "  <tbody>\n",
       "    <tr>\n",
       "      <th>0</th>\n",
       "      <td>MAC000002</td>\n",
       "      <td>Std</td>\n",
       "      <td>2012-10-12 00:30:00.0000000</td>\n",
       "      <td>0</td>\n",
       "    </tr>\n",
       "    <tr>\n",
       "      <th>1</th>\n",
       "      <td>MAC000002</td>\n",
       "      <td>Std</td>\n",
       "      <td>2012-10-12 01:00:00.0000000</td>\n",
       "      <td>0</td>\n",
       "    </tr>\n",
       "    <tr>\n",
       "      <th>2</th>\n",
       "      <td>MAC000002</td>\n",
       "      <td>Std</td>\n",
       "      <td>2012-10-12 01:30:00.0000000</td>\n",
       "      <td>0</td>\n",
       "    </tr>\n",
       "    <tr>\n",
       "      <th>3</th>\n",
       "      <td>MAC000002</td>\n",
       "      <td>Std</td>\n",
       "      <td>2012-10-12 02:00:00.0000000</td>\n",
       "      <td>0</td>\n",
       "    </tr>\n",
       "    <tr>\n",
       "      <th>4</th>\n",
       "      <td>MAC000002</td>\n",
       "      <td>Std</td>\n",
       "      <td>2012-10-12 02:30:00.0000000</td>\n",
       "      <td>0</td>\n",
       "    </tr>\n",
       "    <tr>\n",
       "      <th>...</th>\n",
       "      <td>...</td>\n",
       "      <td>...</td>\n",
       "      <td>...</td>\n",
       "      <td>...</td>\n",
       "    </tr>\n",
       "    <tr>\n",
       "      <th>95</th>\n",
       "      <td>MAC000002</td>\n",
       "      <td>Std</td>\n",
       "      <td>2012-10-14 00:30:00.0000000</td>\n",
       "      <td>0.166</td>\n",
       "    </tr>\n",
       "    <tr>\n",
       "      <th>96</th>\n",
       "      <td>MAC000002</td>\n",
       "      <td>Std</td>\n",
       "      <td>2012-10-14 01:00:00.0000000</td>\n",
       "      <td>0.226</td>\n",
       "    </tr>\n",
       "    <tr>\n",
       "      <th>97</th>\n",
       "      <td>MAC000002</td>\n",
       "      <td>Std</td>\n",
       "      <td>2012-10-14 01:30:00.0000000</td>\n",
       "      <td>0.088</td>\n",
       "    </tr>\n",
       "    <tr>\n",
       "      <th>98</th>\n",
       "      <td>MAC000002</td>\n",
       "      <td>Std</td>\n",
       "      <td>2012-10-14 02:00:00.0000000</td>\n",
       "      <td>0.126</td>\n",
       "    </tr>\n",
       "    <tr>\n",
       "      <th>99</th>\n",
       "      <td>MAC000002</td>\n",
       "      <td>Std</td>\n",
       "      <td>2012-10-14 02:30:00.0000000</td>\n",
       "      <td>0.082</td>\n",
       "    </tr>\n",
       "  </tbody>\n",
       "</table>\n",
       "<p>100 rows × 4 columns</p>\n",
       "</div>"
      ],
      "text/plain": [
       "        LCLid stdorToU                     DateTime KWH/hh (per half hour) \n",
       "0   MAC000002      Std  2012-10-12 00:30:00.0000000                      0 \n",
       "1   MAC000002      Std  2012-10-12 01:00:00.0000000                      0 \n",
       "2   MAC000002      Std  2012-10-12 01:30:00.0000000                      0 \n",
       "3   MAC000002      Std  2012-10-12 02:00:00.0000000                      0 \n",
       "4   MAC000002      Std  2012-10-12 02:30:00.0000000                      0 \n",
       "..        ...      ...                          ...                     ...\n",
       "95  MAC000002      Std  2012-10-14 00:30:00.0000000                  0.166 \n",
       "96  MAC000002      Std  2012-10-14 01:00:00.0000000                  0.226 \n",
       "97  MAC000002      Std  2012-10-14 01:30:00.0000000                  0.088 \n",
       "98  MAC000002      Std  2012-10-14 02:00:00.0000000                  0.126 \n",
       "99  MAC000002      Std  2012-10-14 02:30:00.0000000                  0.082 \n",
       "\n",
       "[100 rows x 4 columns]"
      ]
     },
     "execution_count": 5,
     "metadata": {},
     "output_type": "execute_result"
    }
   ],
   "source": [
    "data.head(100) "
   ]
  },
  {
   "cell_type": "code",
   "execution_count": 6,
   "metadata": {},
   "outputs": [
    {
     "data": {
      "text/plain": [
       "array(['MAC000002', 'MAC000003', 'MAC000004', ..., 'MAC005557',\n",
       "       'MAC005564', 'MAC005565'], dtype=object)"
      ]
     },
     "execution_count": 6,
     "metadata": {},
     "output_type": "execute_result"
    }
   ],
   "source": [
    "data.LCLid.unique()"
   ]
  },
  {
   "cell_type": "code",
   "execution_count": 7,
   "metadata": {},
   "outputs": [
    {
     "data": {
      "text/html": [
       "<div>\n",
       "<style scoped>\n",
       "    .dataframe tbody tr th:only-of-type {\n",
       "        vertical-align: middle;\n",
       "    }\n",
       "\n",
       "    .dataframe tbody tr th {\n",
       "        vertical-align: top;\n",
       "    }\n",
       "\n",
       "    .dataframe thead th {\n",
       "        text-align: right;\n",
       "    }\n",
       "</style>\n",
       "<table border=\"1\" class=\"dataframe\">\n",
       "  <thead>\n",
       "    <tr style=\"text-align: right;\">\n",
       "      <th></th>\n",
       "      <th>LCLid</th>\n",
       "      <th>stdorToU</th>\n",
       "      <th>DateTime</th>\n",
       "      <th>KWH/hh (per half hour)</th>\n",
       "    </tr>\n",
       "  </thead>\n",
       "  <tbody>\n",
       "    <tr>\n",
       "      <th>count</th>\n",
       "      <td>167932474</td>\n",
       "      <td>167932474</td>\n",
       "      <td>167932474</td>\n",
       "      <td>167932474</td>\n",
       "    </tr>\n",
       "    <tr>\n",
       "      <th>unique</th>\n",
       "      <td>5566</td>\n",
       "      <td>2</td>\n",
       "      <td>40405</td>\n",
       "      <td>7527</td>\n",
       "    </tr>\n",
       "    <tr>\n",
       "      <th>top</th>\n",
       "      <td>MAC000145</td>\n",
       "      <td>Std</td>\n",
       "      <td>2012-11-20 00:00:00.0000000</td>\n",
       "      <td>0</td>\n",
       "    </tr>\n",
       "    <tr>\n",
       "      <th>freq</th>\n",
       "      <td>39752</td>\n",
       "      <td>134148703</td>\n",
       "      <td>11062</td>\n",
       "      <td>2002920</td>\n",
       "    </tr>\n",
       "  </tbody>\n",
       "</table>\n",
       "</div>"
      ],
      "text/plain": [
       "            LCLid   stdorToU                     DateTime   \n",
       "count   167932474  167932474                    167932474  \\\n",
       "unique       5566          2                        40405   \n",
       "top     MAC000145        Std  2012-11-20 00:00:00.0000000   \n",
       "freq        39752  134148703                        11062   \n",
       "\n",
       "       KWH/hh (per half hour)   \n",
       "count                167932474  \n",
       "unique                    7527  \n",
       "top                         0   \n",
       "freq                   2002920  "
      ]
     },
     "execution_count": 7,
     "metadata": {},
     "output_type": "execute_result"
    }
   ],
   "source": [
    "data.describe()"
   ]
  },
  {
   "cell_type": "code",
   "execution_count": 8,
   "metadata": {},
   "outputs": [
    {
     "name": "stdout",
     "output_type": "stream",
     "text": [
      "<class 'pandas.core.frame.DataFrame'>\n",
      "RangeIndex: 167932474 entries, 0 to 167932473\n",
      "Data columns (total 4 columns):\n",
      " #   Column                   Dtype \n",
      "---  ------                   ----- \n",
      " 0   LCLid                    object\n",
      " 1   stdorToU                 object\n",
      " 2   DateTime                 object\n",
      " 3   KWH/hh (per half hour)   object\n",
      "dtypes: object(4)\n",
      "memory usage: 5.0+ GB\n"
     ]
    }
   ],
   "source": [
    "data.info()"
   ]
  },
  {
   "cell_type": "code",
   "execution_count": 9,
   "metadata": {},
   "outputs": [],
   "source": [
    "#### converting datatime\n",
    "from datetime import datetime as dt \n",
    "format_str = '%Y-%m-%d %H:%M:%S.%f'\n",
    "data['DateTime']=pd.to_datetime(data['DateTime'], format=format_str)"
   ]
  },
  {
   "cell_type": "code",
   "execution_count": 10,
   "metadata": {},
   "outputs": [
    {
     "name": "stdout",
     "output_type": "stream",
     "text": [
      "<class 'pandas.core.frame.DataFrame'>\n",
      "RangeIndex: 167932474 entries, 0 to 167932473\n",
      "Data columns (total 4 columns):\n",
      " #   Column                   Dtype         \n",
      "---  ------                   -----         \n",
      " 0   LCLid                    object        \n",
      " 1   stdorToU                 object        \n",
      " 2   DateTime                 datetime64[ns]\n",
      " 3   KWH/hh (per half hour)   object        \n",
      "dtypes: datetime64[ns](1), object(3)\n",
      "memory usage: 5.0+ GB\n"
     ]
    }
   ],
   "source": [
    "data.info()"
   ]
  },
  {
   "cell_type": "code",
   "execution_count": 11,
   "metadata": {},
   "outputs": [
    {
     "data": {
      "text/html": [
       "<div>\n",
       "<style scoped>\n",
       "    .dataframe tbody tr th:only-of-type {\n",
       "        vertical-align: middle;\n",
       "    }\n",
       "\n",
       "    .dataframe tbody tr th {\n",
       "        vertical-align: top;\n",
       "    }\n",
       "\n",
       "    .dataframe thead th {\n",
       "        text-align: right;\n",
       "    }\n",
       "</style>\n",
       "<table border=\"1\" class=\"dataframe\">\n",
       "  <thead>\n",
       "    <tr style=\"text-align: right;\">\n",
       "      <th></th>\n",
       "      <th>LCLid</th>\n",
       "      <th>stdorToU</th>\n",
       "      <th>DateTime</th>\n",
       "      <th>KWH/hh (per half hour)</th>\n",
       "    </tr>\n",
       "  </thead>\n",
       "  <tbody>\n",
       "    <tr>\n",
       "      <th>0</th>\n",
       "      <td>MAC000002</td>\n",
       "      <td>Std</td>\n",
       "      <td>2012-10-12 00:30:00</td>\n",
       "      <td>0</td>\n",
       "    </tr>\n",
       "    <tr>\n",
       "      <th>1</th>\n",
       "      <td>MAC000002</td>\n",
       "      <td>Std</td>\n",
       "      <td>2012-10-12 01:00:00</td>\n",
       "      <td>0</td>\n",
       "    </tr>\n",
       "    <tr>\n",
       "      <th>2</th>\n",
       "      <td>MAC000002</td>\n",
       "      <td>Std</td>\n",
       "      <td>2012-10-12 01:30:00</td>\n",
       "      <td>0</td>\n",
       "    </tr>\n",
       "    <tr>\n",
       "      <th>3</th>\n",
       "      <td>MAC000002</td>\n",
       "      <td>Std</td>\n",
       "      <td>2012-10-12 02:00:00</td>\n",
       "      <td>0</td>\n",
       "    </tr>\n",
       "    <tr>\n",
       "      <th>4</th>\n",
       "      <td>MAC000002</td>\n",
       "      <td>Std</td>\n",
       "      <td>2012-10-12 02:30:00</td>\n",
       "      <td>0</td>\n",
       "    </tr>\n",
       "    <tr>\n",
       "      <th>...</th>\n",
       "      <td>...</td>\n",
       "      <td>...</td>\n",
       "      <td>...</td>\n",
       "      <td>...</td>\n",
       "    </tr>\n",
       "    <tr>\n",
       "      <th>167932469</th>\n",
       "      <td>MAC005565</td>\n",
       "      <td>ToU</td>\n",
       "      <td>2012-06-21 05:30:00</td>\n",
       "      <td>1.022</td>\n",
       "    </tr>\n",
       "    <tr>\n",
       "      <th>167932470</th>\n",
       "      <td>MAC005565</td>\n",
       "      <td>ToU</td>\n",
       "      <td>2012-06-21 06:00:00</td>\n",
       "      <td>0.188</td>\n",
       "    </tr>\n",
       "    <tr>\n",
       "      <th>167932471</th>\n",
       "      <td>MAC005565</td>\n",
       "      <td>ToU</td>\n",
       "      <td>2012-06-21 06:30:00</td>\n",
       "      <td>0.073</td>\n",
       "    </tr>\n",
       "    <tr>\n",
       "      <th>167932472</th>\n",
       "      <td>MAC005565</td>\n",
       "      <td>ToU</td>\n",
       "      <td>2012-06-21 07:00:00</td>\n",
       "      <td>0.025</td>\n",
       "    </tr>\n",
       "    <tr>\n",
       "      <th>167932473</th>\n",
       "      <td>MAC005565</td>\n",
       "      <td>ToU</td>\n",
       "      <td>2012-12-19 12:32:41</td>\n",
       "      <td>Null</td>\n",
       "    </tr>\n",
       "  </tbody>\n",
       "</table>\n",
       "<p>167932474 rows × 4 columns</p>\n",
       "</div>"
      ],
      "text/plain": [
       "               LCLid stdorToU            DateTime KWH/hh (per half hour) \n",
       "0          MAC000002      Std 2012-10-12 00:30:00                      0 \n",
       "1          MAC000002      Std 2012-10-12 01:00:00                      0 \n",
       "2          MAC000002      Std 2012-10-12 01:30:00                      0 \n",
       "3          MAC000002      Std 2012-10-12 02:00:00                      0 \n",
       "4          MAC000002      Std 2012-10-12 02:30:00                      0 \n",
       "...              ...      ...                 ...                     ...\n",
       "167932469  MAC005565      ToU 2012-06-21 05:30:00                  1.022 \n",
       "167932470  MAC005565      ToU 2012-06-21 06:00:00                  0.188 \n",
       "167932471  MAC005565      ToU 2012-06-21 06:30:00                  0.073 \n",
       "167932472  MAC005565      ToU 2012-06-21 07:00:00                  0.025 \n",
       "167932473  MAC005565      ToU 2012-12-19 12:32:41                    Null\n",
       "\n",
       "[167932474 rows x 4 columns]"
      ]
     },
     "execution_count": 11,
     "metadata": {},
     "output_type": "execute_result"
    }
   ],
   "source": [
    "#### renaming coloumn as it is too big\n",
    "data.rename(columns={'KWH/hh (per half hour)': 'KWH_hh'})"
   ]
  },
  {
   "cell_type": "code",
   "execution_count": 12,
   "metadata": {},
   "outputs": [
    {
     "data": {
      "text/html": [
       "<div>\n",
       "<style scoped>\n",
       "    .dataframe tbody tr th:only-of-type {\n",
       "        vertical-align: middle;\n",
       "    }\n",
       "\n",
       "    .dataframe tbody tr th {\n",
       "        vertical-align: top;\n",
       "    }\n",
       "\n",
       "    .dataframe thead th {\n",
       "        text-align: right;\n",
       "    }\n",
       "</style>\n",
       "<table border=\"1\" class=\"dataframe\">\n",
       "  <thead>\n",
       "    <tr style=\"text-align: right;\">\n",
       "      <th></th>\n",
       "      <th>LCLid</th>\n",
       "      <th>stdorToU</th>\n",
       "      <th>DateTime</th>\n",
       "      <th>KWH/hh (per half hour)</th>\n",
       "    </tr>\n",
       "  </thead>\n",
       "  <tbody>\n",
       "    <tr>\n",
       "      <th>0</th>\n",
       "      <td>MAC000002</td>\n",
       "      <td>Std</td>\n",
       "      <td>2012-10-12 00:30:00</td>\n",
       "      <td>0</td>\n",
       "    </tr>\n",
       "    <tr>\n",
       "      <th>1</th>\n",
       "      <td>MAC000002</td>\n",
       "      <td>Std</td>\n",
       "      <td>2012-10-12 01:00:00</td>\n",
       "      <td>0</td>\n",
       "    </tr>\n",
       "    <tr>\n",
       "      <th>2</th>\n",
       "      <td>MAC000002</td>\n",
       "      <td>Std</td>\n",
       "      <td>2012-10-12 01:30:00</td>\n",
       "      <td>0</td>\n",
       "    </tr>\n",
       "    <tr>\n",
       "      <th>3</th>\n",
       "      <td>MAC000002</td>\n",
       "      <td>Std</td>\n",
       "      <td>2012-10-12 02:00:00</td>\n",
       "      <td>0</td>\n",
       "    </tr>\n",
       "    <tr>\n",
       "      <th>4</th>\n",
       "      <td>MAC000002</td>\n",
       "      <td>Std</td>\n",
       "      <td>2012-10-12 02:30:00</td>\n",
       "      <td>0</td>\n",
       "    </tr>\n",
       "  </tbody>\n",
       "</table>\n",
       "</div>"
      ],
      "text/plain": [
       "       LCLid stdorToU            DateTime KWH/hh (per half hour) \n",
       "0  MAC000002      Std 2012-10-12 00:30:00                      0 \n",
       "1  MAC000002      Std 2012-10-12 01:00:00                      0 \n",
       "2  MAC000002      Std 2012-10-12 01:30:00                      0 \n",
       "3  MAC000002      Std 2012-10-12 02:00:00                      0 \n",
       "4  MAC000002      Std 2012-10-12 02:30:00                      0 "
      ]
     },
     "execution_count": 12,
     "metadata": {},
     "output_type": "execute_result"
    }
   ],
   "source": [
    "data.head()"
   ]
  },
  {
   "cell_type": "code",
   "execution_count": 13,
   "metadata": {},
   "outputs": [
    {
     "name": "stdout",
     "output_type": "stream",
     "text": [
      "Index(['LCLid', 'stdorToU', 'DateTime', 'KWH/hh (per half hour) '], dtype='object')\n"
     ]
    }
   ],
   "source": [
    "print(data.columns)"
   ]
  },
  {
   "cell_type": "code",
   "execution_count": 14,
   "metadata": {},
   "outputs": [
    {
     "name": "stdout",
     "output_type": "stream",
     "text": [
      "Index(['LCLid', 'stdorToU', 'DateTime', 'KWH/hh'], dtype='object')\n"
     ]
    }
   ],
   "source": [
    "data.columns = ['LCLid', 'stdorToU', 'DateTime', 'KWH/hh']\n",
    "print(data.columns)"
   ]
  },
  {
   "cell_type": "code",
   "execution_count": 15,
   "metadata": {},
   "outputs": [
    {
     "name": "stdout",
     "output_type": "stream",
     "text": [
      "<class 'pandas.core.frame.DataFrame'>\n",
      "RangeIndex: 167932474 entries, 0 to 167932473\n",
      "Data columns (total 4 columns):\n",
      " #   Column    Dtype         \n",
      "---  ------    -----         \n",
      " 0   LCLid     object        \n",
      " 1   stdorToU  object        \n",
      " 2   DateTime  datetime64[ns]\n",
      " 3   KWH/hh    object        \n",
      "dtypes: datetime64[ns](1), object(3)\n",
      "memory usage: 5.0+ GB\n"
     ]
    }
   ],
   "source": [
    "data.info()"
   ]
  },
  {
   "cell_type": "code",
   "execution_count": 16,
   "metadata": {},
   "outputs": [
    {
     "name": "stdout",
     "output_type": "stream",
     "text": [
      "<class 'pandas.core.frame.DataFrame'>\n",
      "RangeIndex: 167932474 entries, 0 to 167932473\n",
      "Data columns (total 4 columns):\n",
      " #   Column    Dtype         \n",
      "---  ------    -----         \n",
      " 0   LCLid     object        \n",
      " 1   stdorToU  object        \n",
      " 2   DateTime  datetime64[ns]\n",
      " 3   KWH/hh    object        \n",
      "dtypes: datetime64[ns](1), object(3)\n",
      "memory usage: 5.0+ GB\n"
     ]
    }
   ],
   "source": [
    "data.info()"
   ]
  },
  {
   "cell_type": "code",
   "execution_count": 17,
   "metadata": {},
   "outputs": [],
   "source": [
    "data.dropna(subset=[\"KWH/hh\"], inplace=True)"
   ]
  },
  {
   "cell_type": "code",
   "execution_count": 18,
   "metadata": {},
   "outputs": [
    {
     "name": "stdout",
     "output_type": "stream",
     "text": [
      "LCLid       0\n",
      "stdorToU    0\n",
      "DateTime    0\n",
      "KWH/hh      0\n",
      "dtype: int64\n"
     ]
    }
   ],
   "source": [
    "print(data.isnull().sum())"
   ]
  },
  {
   "cell_type": "code",
   "execution_count": 19,
   "metadata": {},
   "outputs": [],
   "source": [
    "### replacing null values with nan\n",
    "data = data.replace('Null', np.nan)"
   ]
  },
  {
   "cell_type": "code",
   "execution_count": 20,
   "metadata": {},
   "outputs": [
    {
     "name": "stdout",
     "output_type": "stream",
     "text": [
      "LCLid          0\n",
      "stdorToU       0\n",
      "DateTime       0\n",
      "KWH/hh      5560\n",
      "dtype: int64\n"
     ]
    }
   ],
   "source": [
    "## printing them\n",
    "print(data.isnull().sum())"
   ]
  },
  {
   "cell_type": "code",
   "execution_count": 21,
   "metadata": {},
   "outputs": [],
   "source": [
    "## dropping nan values\n",
    "data.dropna(subset=[\"KWH/hh\"], inplace=True)"
   ]
  },
  {
   "cell_type": "code",
   "execution_count": 22,
   "metadata": {},
   "outputs": [
    {
     "name": "stdout",
     "output_type": "stream",
     "text": [
      "LCLid       0\n",
      "stdorToU    0\n",
      "DateTime    0\n",
      "KWH/hh      0\n",
      "dtype: int64\n"
     ]
    }
   ],
   "source": [
    "## rechecking nan values\n",
    "print(data.isnull().sum())"
   ]
  },
  {
   "cell_type": "code",
   "execution_count": 23,
   "metadata": {},
   "outputs": [],
   "source": [
    "## making KWH/hh float type\n",
    "data['KWH/hh'] = data['KWH/hh'].astype(float)"
   ]
  },
  {
   "cell_type": "code",
   "execution_count": 24,
   "metadata": {},
   "outputs": [
    {
     "name": "stdout",
     "output_type": "stream",
     "text": [
      "<class 'pandas.core.frame.DataFrame'>\n",
      "Index: 167926914 entries, 0 to 167932472\n",
      "Data columns (total 4 columns):\n",
      " #   Column    Dtype         \n",
      "---  ------    -----         \n",
      " 0   LCLid     object        \n",
      " 1   stdorToU  object        \n",
      " 2   DateTime  datetime64[ns]\n",
      " 3   KWH/hh    float64       \n",
      "dtypes: datetime64[ns](1), float64(1), object(2)\n",
      "memory usage: 6.3+ GB\n"
     ]
    }
   ],
   "source": [
    "data.info()"
   ]
  },
  {
   "cell_type": "code",
   "execution_count": 25,
   "metadata": {},
   "outputs": [
    {
     "name": "stdout",
     "output_type": "stream",
     "text": [
      "LCLid\n",
      "MAC000002    0.252562\n",
      "MAC000003    0.397666\n",
      "MAC000004    0.035383\n",
      "MAC000005    0.095388\n",
      "MAC000006    0.059471\n",
      "               ...   \n",
      "MAC005562    0.218019\n",
      "MAC005564    0.083904\n",
      "MAC005565    0.131591\n",
      "MAC005566    0.363100\n",
      "MAC005567    0.108561\n",
      "Name: KWH/hh, Length: 5561, dtype: float64\n"
     ]
    }
   ],
   "source": [
    "## checking kwh avg per LCLid\n",
    "avg_kwh = data.groupby('LCLid')['KWH/hh'].mean()\n",
    "print(avg_kwh)"
   ]
  },
  {
   "cell_type": "code",
   "execution_count": 26,
   "metadata": {},
   "outputs": [],
   "source": [
    "## checking min,max,mean value of avg\n",
    "min_avgkwh = avg_kwh.min()\n",
    "max_avgkwh = avg_kwh.max()\n",
    "avg_avgkwh = avg_kwh.mean()"
   ]
  },
  {
   "cell_type": "code",
   "execution_count": 27,
   "metadata": {},
   "outputs": [
    {
     "name": "stdout",
     "output_type": "stream",
     "text": [
      "0.0 2.111051826208848 0.2128946237933304\n"
     ]
    }
   ],
   "source": [
    "## checking min,max,mean value of avg\n",
    "print(min_avgkwh, max_avgkwh, avg_avgkwh)"
   ]
  },
  {
   "cell_type": "code",
   "execution_count": 28,
   "metadata": {},
   "outputs": [
    {
     "name": "stdout",
     "output_type": "stream",
     "text": [
      "879 10\n"
     ]
    }
   ],
   "source": [
    "## checking min,max,mean value of avg (setting boundaries)\n",
    "KWH_less_than_009 = (avg_kwh < 0.09).sum()\n",
    "KWH_more_than_135 = (avg_kwh > 1.35).sum()\n",
    "\n",
    "# print the results\n",
    "print(KWH_less_than_009, KWH_more_than_135)"
   ]
  },
  {
   "cell_type": "code",
   "execution_count": 29,
   "metadata": {},
   "outputs": [
    {
     "name": "stdout",
     "output_type": "stream",
     "text": [
      "0.0 10.7609997 0.21176300941483434\n"
     ]
    }
   ],
   "source": [
    "min_kwh = data['KWH/hh'].min()\n",
    "max_kwh = data['KWH/hh'].max()\n",
    "avg_kwh = data['KWH/hh'].mean()\n",
    "print(min_kwh, max_kwh, avg_kwh)"
   ]
  },
  {
   "cell_type": "code",
   "execution_count": 30,
   "metadata": {},
   "outputs": [
    {
     "name": "stdout",
     "output_type": "stream",
     "text": [
      "155783331 57339\n"
     ]
    }
   ],
   "source": [
    "KWH_less_than_06 = (data['KWH/hh'] < 0.6).sum()\n",
    "KWH_more_than_36 = (data['KWH/hh'] > 3.6).sum()\n",
    "print(KWH_less_than_06, KWH_more_than_36)"
   ]
  },
  {
   "cell_type": "code",
   "execution_count": 31,
   "metadata": {},
   "outputs": [],
   "source": [
    "data2 = data"
   ]
  },
  {
   "cell_type": "code",
   "execution_count": 32,
   "metadata": {},
   "outputs": [
    {
     "name": "stdout",
     "output_type": "stream",
     "text": [
      "<class 'pandas.core.frame.DataFrame'>\n",
      "Index: 167926914 entries, 0 to 167932472\n",
      "Data columns (total 4 columns):\n",
      " #   Column    Dtype         \n",
      "---  ------    -----         \n",
      " 0   LCLid     object        \n",
      " 1   stdorToU  object        \n",
      " 2   DateTime  datetime64[ns]\n",
      " 3   KWH/hh    float64       \n",
      "dtypes: datetime64[ns](1), float64(1), object(2)\n",
      "memory usage: 6.3+ GB\n"
     ]
    }
   ],
   "source": [
    "data2.info()"
   ]
  },
  {
   "cell_type": "code",
   "execution_count": 33,
   "metadata": {},
   "outputs": [],
   "source": [
    "data2 = data2.drop(data2[(data2['KWH/hh'] < 0.5) | (data2['KWH/hh'] > 4)].index)\n",
    "data2 = data2.reset_index(drop=True)"
   ]
  },
  {
   "cell_type": "code",
   "execution_count": 34,
   "metadata": {},
   "outputs": [
    {
     "data": {
      "text/html": [
       "<div>\n",
       "<style scoped>\n",
       "    .dataframe tbody tr th:only-of-type {\n",
       "        vertical-align: middle;\n",
       "    }\n",
       "\n",
       "    .dataframe tbody tr th {\n",
       "        vertical-align: top;\n",
       "    }\n",
       "\n",
       "    .dataframe thead th {\n",
       "        text-align: right;\n",
       "    }\n",
       "</style>\n",
       "<table border=\"1\" class=\"dataframe\">\n",
       "  <thead>\n",
       "    <tr style=\"text-align: right;\">\n",
       "      <th></th>\n",
       "      <th>DateTime</th>\n",
       "      <th>KWH/hh</th>\n",
       "    </tr>\n",
       "  </thead>\n",
       "  <tbody>\n",
       "    <tr>\n",
       "      <th>count</th>\n",
       "      <td>15874386</td>\n",
       "      <td>1.587439e+07</td>\n",
       "    </tr>\n",
       "    <tr>\n",
       "      <th>mean</th>\n",
       "      <td>2013-04-03 17:23:24.119050240</td>\n",
       "      <td>9.205397e-01</td>\n",
       "    </tr>\n",
       "    <tr>\n",
       "      <th>min</th>\n",
       "      <td>2011-11-23 11:30:00</td>\n",
       "      <td>5.000000e-01</td>\n",
       "    </tr>\n",
       "    <tr>\n",
       "      <th>25%</th>\n",
       "      <td>2012-11-18 08:30:00</td>\n",
       "      <td>6.060000e-01</td>\n",
       "    </tr>\n",
       "    <tr>\n",
       "      <th>50%</th>\n",
       "      <td>2013-03-11 23:30:00</td>\n",
       "      <td>7.680000e-01</td>\n",
       "    </tr>\n",
       "    <tr>\n",
       "      <th>75%</th>\n",
       "      <td>2013-10-06 08:00:00</td>\n",
       "      <td>1.070000e+00</td>\n",
       "    </tr>\n",
       "    <tr>\n",
       "      <th>max</th>\n",
       "      <td>2014-02-28 00:00:00</td>\n",
       "      <td>4.000000e+00</td>\n",
       "    </tr>\n",
       "    <tr>\n",
       "      <th>std</th>\n",
       "      <td>NaN</td>\n",
       "      <td>4.602780e-01</td>\n",
       "    </tr>\n",
       "  </tbody>\n",
       "</table>\n",
       "</div>"
      ],
      "text/plain": [
       "                            DateTime        KWH/hh\n",
       "count                       15874386  1.587439e+07\n",
       "mean   2013-04-03 17:23:24.119050240  9.205397e-01\n",
       "min              2011-11-23 11:30:00  5.000000e-01\n",
       "25%              2012-11-18 08:30:00  6.060000e-01\n",
       "50%              2013-03-11 23:30:00  7.680000e-01\n",
       "75%              2013-10-06 08:00:00  1.070000e+00\n",
       "max              2014-02-28 00:00:00  4.000000e+00\n",
       "std                              NaN  4.602780e-01"
      ]
     },
     "execution_count": 34,
     "metadata": {},
     "output_type": "execute_result"
    }
   ],
   "source": [
    "data2.describe()"
   ]
  },
  {
   "cell_type": "code",
   "execution_count": 35,
   "metadata": {},
   "outputs": [
    {
     "name": "stdout",
     "output_type": "stream",
     "text": [
      "0           MAC000002\n",
      "1           MAC000002\n",
      "2           MAC000002\n",
      "3           MAC000002\n",
      "4           MAC000002\n",
      "              ...    \n",
      "15874381    MAC005564\n",
      "15874382    MAC005564\n",
      "15874383    MAC005564\n",
      "15874384    MAC005564\n",
      "15874385    MAC005565\n",
      "Name: LCLid, Length: 15874386, dtype: object\n"
     ]
    }
   ],
   "source": [
    "print(data2.LCLid)"
   ]
  },
  {
   "cell_type": "code",
   "execution_count": 36,
   "metadata": {},
   "outputs": [
    {
     "name": "stdout",
     "output_type": "stream",
     "text": [
      "LCLid\n",
      "MAC000002    2406\n",
      "MAC000003    5893\n",
      "MAC000004      31\n",
      "MAC000005     539\n",
      "MAC000006      60\n",
      "             ... \n",
      "MAC005562    2063\n",
      "MAC005564     280\n",
      "MAC005565       1\n",
      "MAC005566    7407\n",
      "MAC005567     469\n",
      "Name: KWH/hh, Length: 5517, dtype: int64\n"
     ]
    }
   ],
   "source": [
    "counts = data2.groupby('LCLid')['KWH/hh'].count()\n",
    "print(counts)"
   ]
  },
  {
   "cell_type": "code",
   "execution_count": 37,
   "metadata": {},
   "outputs": [],
   "source": [
    "#transferring for data cleaning\n",
    "data3 = data"
   ]
  },
  {
   "cell_type": "code",
   "execution_count": 38,
   "metadata": {},
   "outputs": [],
   "source": [
    "# droping rows as per limits set\n",
    "Yavg_kwh = data3.groupby('LCLid')['KWH/hh'].mean()\n",
    "\n",
    "# drop rows where the average 'KWH/hh' is less than 0.09 or more than 1.35\n",
    "to_drop = Yavg_kwh[(Yavg_kwh < 0.09) | (Yavg_kwh > 1.35)].index\n",
    "data3 = data3[~data3['LCLid'].isin(to_drop)]\n",
    "\n",
    "# reset the index of the dataframe\n",
    "data3 = data3.reset_index(drop=True)"
   ]
  },
  {
   "cell_type": "code",
   "execution_count": 39,
   "metadata": {},
   "outputs": [
    {
     "name": "stdout",
     "output_type": "stream",
     "text": [
      "LCLid\n",
      "MAC000002    24157\n",
      "MAC000003    35468\n",
      "MAC000005    30526\n",
      "MAC000007    25045\n",
      "MAC000008    26012\n",
      "             ...  \n",
      "MAC005561    27588\n",
      "MAC005562    31699\n",
      "MAC005565       44\n",
      "MAC005566    24640\n",
      "MAC005567    20896\n",
      "Name: KWH/hh, Length: 4672, dtype: int64\n"
     ]
    }
   ],
   "source": [
    "# counting readings\n",
    "count_s = data3.groupby('LCLid')['KWH/hh'].count()\n",
    "print(count_s)"
   ]
  },
  {
   "cell_type": "code",
   "execution_count": 40,
   "metadata": {},
   "outputs": [
    {
     "name": "stdout",
     "output_type": "stream",
     "text": [
      "False\n"
     ]
    }
   ],
   "source": [
    "# checking drop values existance\n",
    "exists = \"MAC000004\" in data3['LCLid'].values\n",
    "print(exists)"
   ]
  },
  {
   "cell_type": "code",
   "execution_count": 41,
   "metadata": {},
   "outputs": [
    {
     "data": {
      "text/plain": [
       "141063817"
      ]
     },
     "execution_count": 41,
     "metadata": {},
     "output_type": "execute_result"
    }
   ],
   "source": [
    "data3.LCLid.count()"
   ]
  },
  {
   "cell_type": "code",
   "execution_count": 42,
   "metadata": {},
   "outputs": [],
   "source": [
    "# checking grouped statistics\n",
    "grouped_data3 = data3.groupby('LCLid')\n",
    "\n",
    "# calculate the median, average, sum, highest, and lowest energy consumption for each 'LCLid'\n",
    "median_consumption = grouped_data3['KWH/hh'].median()\n",
    "average_consumption = grouped_data3['KWH/hh'].mean()\n",
    "sum_consumption = grouped_data3['KWH/hh'].sum()\n",
    "highest_consumption = grouped_data3['KWH/hh'].max()\n",
    "lowest_consumption = grouped_data3['KWH/hh'].min()\n",
    "\n"
   ]
  },
  {
   "cell_type": "code",
   "execution_count": 43,
   "metadata": {},
   "outputs": [
    {
     "name": "stdout",
     "output_type": "stream",
     "text": [
      "Energy consumption median:\n",
      "LCLid\n",
      "MAC000002    0.158\n",
      "MAC000003    0.166\n",
      "MAC000005    0.041\n",
      "MAC000007    0.115\n",
      "MAC000008    0.296\n",
      "             ...  \n",
      "MAC005561    0.094\n",
      "MAC005562    0.170\n",
      "MAC005565    0.114\n",
      "MAC005566    0.163\n",
      "MAC005567    0.062\n",
      "Name: KWH/hh, Length: 4672, dtype: float64\n",
      "Energy consumption average:\n",
      "LCLid\n",
      "MAC000002    0.252562\n",
      "MAC000003    0.397666\n",
      "MAC000005    0.095388\n",
      "MAC000007    0.197805\n",
      "MAC000008    0.363102\n",
      "               ...   \n",
      "MAC005561    0.152001\n",
      "MAC005562    0.218019\n",
      "MAC005565    0.131591\n",
      "MAC005566    0.363100\n",
      "MAC005567    0.108561\n",
      "Name: KWH/hh, Length: 4672, dtype: float64\n",
      "Energy consumption sum:\n",
      "LCLid\n",
      "MAC000002     6101.138001\n",
      "MAC000003    14104.433003\n",
      "MAC000005     2911.808000\n",
      "MAC000007     4954.016999\n",
      "MAC000008     9445.007000\n",
      "                 ...     \n",
      "MAC005561     4193.402000\n",
      "MAC005562     6910.988999\n",
      "MAC005565        5.790000\n",
      "MAC005566     8946.788999\n",
      "MAC005567     2268.484999\n",
      "Name: KWH/hh, Length: 4672, dtype: float64\n",
      "Highest recorded energy consumption:\n",
      "LCLid\n",
      "MAC000002    2.994\n",
      "MAC000003    3.921\n",
      "MAC000005    1.979\n",
      "MAC000007    3.784\n",
      "MAC000008    3.581\n",
      "             ...  \n",
      "MAC005561    1.886\n",
      "MAC005562    1.879\n",
      "MAC005565    1.022\n",
      "MAC005566    3.936\n",
      "MAC005567    1.528\n",
      "Name: KWH/hh, Length: 4672, dtype: float64\n",
      "Lowest recorded energy consumption:\n",
      "LCLid\n",
      "MAC000002    0.000\n",
      "MAC000003    0.007\n",
      "MAC000005    0.010\n",
      "MAC000007    0.015\n",
      "MAC000008    0.000\n",
      "             ...  \n",
      "MAC005561    0.017\n",
      "MAC005562    0.008\n",
      "MAC005565    0.010\n",
      "MAC005566    0.034\n",
      "MAC005567    0.027\n",
      "Name: KWH/hh, Length: 4672, dtype: float64\n"
     ]
    }
   ],
   "source": [
    "# checking grouped statistics\n",
    "# print the results\n",
    "print('Energy consumption median:')\n",
    "print(median_consumption)\n",
    "\n",
    "print('Energy consumption average:')\n",
    "print(average_consumption)\n",
    "\n",
    "print('Energy consumption sum:')\n",
    "print(sum_consumption)\n",
    "\n",
    "print('Highest recorded energy consumption:')\n",
    "print(highest_consumption)\n",
    "\n",
    "print('Lowest recorded energy consumption:')\n",
    "print(lowest_consumption)"
   ]
  },
  {
   "cell_type": "code",
   "execution_count": 44,
   "metadata": {},
   "outputs": [
    {
     "name": "stdout",
     "output_type": "stream",
     "text": [
      "<class 'pandas.core.frame.DataFrame'>\n",
      "RangeIndex: 141063817 entries, 0 to 141063816\n",
      "Data columns (total 5 columns):\n",
      " #   Column    Dtype         \n",
      "---  ------    -----         \n",
      " 0   LCLid     object        \n",
      " 1   stdorToU  object        \n",
      " 2   DateTime  datetime64[ns]\n",
      " 3   KWH/hh    float64       \n",
      " 4   Days      int64         \n",
      "dtypes: datetime64[ns](1), float64(1), int64(1), object(2)\n",
      "memory usage: 5.3+ GB\n"
     ]
    }
   ],
   "source": [
    "# Adding days for better K-Means evaluation\n",
    "data3['Days'] = data3['DateTime'].dt.dayofweek.map({0:1, 1:2, 2:3, 3:4, 4:5, 5:6, 6:7})\n",
    "data3.info()"
   ]
  },
  {
   "cell_type": "code",
   "execution_count": 45,
   "metadata": {},
   "outputs": [
    {
     "name": "stdout",
     "output_type": "stream",
     "text": [
      "Weekday with highest average energy consumption:\n",
      "LCLid\n",
      "MAC000002    (MAC000002, 7)\n",
      "MAC000003    (MAC000003, 1)\n",
      "MAC000005    (MAC000005, 1)\n",
      "MAC000007    (MAC000007, 6)\n",
      "MAC000008    (MAC000008, 7)\n",
      "                  ...      \n",
      "MAC005561    (MAC005561, 2)\n",
      "MAC005562    (MAC005562, 7)\n",
      "MAC005565    (MAC005565, 3)\n",
      "MAC005566    (MAC005566, 2)\n",
      "MAC005567    (MAC005567, 5)\n",
      "Name: KWH/hh, Length: 4672, dtype: object\n",
      "\n",
      "Weekday with lowest average energy consumption:\n",
      "LCLid\n",
      "MAC000002    (MAC000002, 1)\n",
      "MAC000003    (MAC000003, 7)\n",
      "MAC000005    (MAC000005, 4)\n",
      "MAC000007    (MAC000007, 1)\n",
      "MAC000008    (MAC000008, 6)\n",
      "                  ...      \n",
      "MAC005561    (MAC005561, 5)\n",
      "MAC005562    (MAC005562, 5)\n",
      "MAC005565    (MAC005565, 4)\n",
      "MAC005566    (MAC005566, 6)\n",
      "MAC005567    (MAC005567, 4)\n",
      "Name: KWH/hh, Length: 4672, dtype: object\n"
     ]
    }
   ],
   "source": [
    "group_days = data3.groupby(['LCLid', 'Days'])['KWH/hh'].mean()\n",
    "\n",
    "# find the weekday with the highest and lowest average energy consumption for each unique 'LCLid' group\n",
    "highest_avg = group_days.groupby(level='LCLid').idxmax()\n",
    "lowest_avg = group_days.groupby(level='LCLid').idxmin()\n",
    "\n",
    "# print the result\n",
    "print('Weekday with highest average energy consumption:')\n",
    "print(highest_avg)\n",
    "print('\\nWeekday with lowest average energy consumption:')\n",
    "print(lowest_avg)"
   ]
  },
  {
   "cell_type": "code",
   "execution_count": 46,
   "metadata": {},
   "outputs": [
    {
     "name": "stdout",
     "output_type": "stream",
     "text": [
      "Number of unique LCLids: 4672\n"
     ]
    }
   ],
   "source": [
    "unique_count = data3['LCLid'].nunique()\n",
    "print(\"Number of unique LCLids:\", unique_count)"
   ]
  },
  {
   "cell_type": "code",
   "execution_count": 78,
   "metadata": {},
   "outputs": [],
   "source": [
    "highest_avg_values = np.array([tup[1] for tup in highest_avg.values], dtype=object)\n",
    "lowest_avg_values = np.array([tup[1] for tup in lowest_avg.values], dtype=object)"
   ]
  },
  {
   "cell_type": "code",
   "execution_count": 81,
   "metadata": {},
   "outputs": [],
   "source": [
    "# create a new dataframe with the required features\n",
    "kmeans_data = pd.DataFrame({\n",
    "    'median_consumption': median_consumption,\n",
    "    'average_consumption': average_consumption,\n",
    "    'sum_consumption': sum_consumption,\n",
    "    'highest_consumption': highest_consumption,\n",
    "    'lowest_consumption': lowest_consumption,\n",
    "    'weekday with highest_avg': highest_avg_values,\n",
    "    'weekday with lowest_avg': lowest_avg_values\n",
    "})"
   ]
  },
  {
   "cell_type": "code",
   "execution_count": 83,
   "metadata": {},
   "outputs": [
    {
     "data": {
      "text/html": [
       "<div>\n",
       "<style scoped>\n",
       "    .dataframe tbody tr th:only-of-type {\n",
       "        vertical-align: middle;\n",
       "    }\n",
       "\n",
       "    .dataframe tbody tr th {\n",
       "        vertical-align: top;\n",
       "    }\n",
       "\n",
       "    .dataframe thead th {\n",
       "        text-align: right;\n",
       "    }\n",
       "</style>\n",
       "<table border=\"1\" class=\"dataframe\">\n",
       "  <thead>\n",
       "    <tr style=\"text-align: right;\">\n",
       "      <th></th>\n",
       "      <th>median_consumption</th>\n",
       "      <th>average_consumption</th>\n",
       "      <th>sum_consumption</th>\n",
       "      <th>highest_consumption</th>\n",
       "      <th>lowest_consumption</th>\n",
       "      <th>weekday with highest_avg</th>\n",
       "      <th>weekday with lowest_avg</th>\n",
       "    </tr>\n",
       "    <tr>\n",
       "      <th>LCLid</th>\n",
       "      <th></th>\n",
       "      <th></th>\n",
       "      <th></th>\n",
       "      <th></th>\n",
       "      <th></th>\n",
       "      <th></th>\n",
       "      <th></th>\n",
       "    </tr>\n",
       "  </thead>\n",
       "  <tbody>\n",
       "    <tr>\n",
       "      <th>MAC000002</th>\n",
       "      <td>0.158</td>\n",
       "      <td>0.252562</td>\n",
       "      <td>6101.138001</td>\n",
       "      <td>2.994</td>\n",
       "      <td>0.000</td>\n",
       "      <td>7</td>\n",
       "      <td>1</td>\n",
       "    </tr>\n",
       "    <tr>\n",
       "      <th>MAC000003</th>\n",
       "      <td>0.166</td>\n",
       "      <td>0.397666</td>\n",
       "      <td>14104.433003</td>\n",
       "      <td>3.921</td>\n",
       "      <td>0.007</td>\n",
       "      <td>1</td>\n",
       "      <td>7</td>\n",
       "    </tr>\n",
       "    <tr>\n",
       "      <th>MAC000005</th>\n",
       "      <td>0.041</td>\n",
       "      <td>0.095388</td>\n",
       "      <td>2911.808000</td>\n",
       "      <td>1.979</td>\n",
       "      <td>0.010</td>\n",
       "      <td>1</td>\n",
       "      <td>4</td>\n",
       "    </tr>\n",
       "    <tr>\n",
       "      <th>MAC000007</th>\n",
       "      <td>0.115</td>\n",
       "      <td>0.197805</td>\n",
       "      <td>4954.016999</td>\n",
       "      <td>3.784</td>\n",
       "      <td>0.015</td>\n",
       "      <td>6</td>\n",
       "      <td>1</td>\n",
       "    </tr>\n",
       "    <tr>\n",
       "      <th>MAC000008</th>\n",
       "      <td>0.296</td>\n",
       "      <td>0.363102</td>\n",
       "      <td>9445.007000</td>\n",
       "      <td>3.581</td>\n",
       "      <td>0.000</td>\n",
       "      <td>7</td>\n",
       "      <td>6</td>\n",
       "    </tr>\n",
       "    <tr>\n",
       "      <th>...</th>\n",
       "      <td>...</td>\n",
       "      <td>...</td>\n",
       "      <td>...</td>\n",
       "      <td>...</td>\n",
       "      <td>...</td>\n",
       "      <td>...</td>\n",
       "      <td>...</td>\n",
       "    </tr>\n",
       "    <tr>\n",
       "      <th>MAC005561</th>\n",
       "      <td>0.094</td>\n",
       "      <td>0.152001</td>\n",
       "      <td>4193.402000</td>\n",
       "      <td>1.886</td>\n",
       "      <td>0.017</td>\n",
       "      <td>2</td>\n",
       "      <td>5</td>\n",
       "    </tr>\n",
       "    <tr>\n",
       "      <th>MAC005562</th>\n",
       "      <td>0.170</td>\n",
       "      <td>0.218019</td>\n",
       "      <td>6910.988999</td>\n",
       "      <td>1.879</td>\n",
       "      <td>0.008</td>\n",
       "      <td>7</td>\n",
       "      <td>5</td>\n",
       "    </tr>\n",
       "    <tr>\n",
       "      <th>MAC005565</th>\n",
       "      <td>0.114</td>\n",
       "      <td>0.131591</td>\n",
       "      <td>5.790000</td>\n",
       "      <td>1.022</td>\n",
       "      <td>0.010</td>\n",
       "      <td>3</td>\n",
       "      <td>4</td>\n",
       "    </tr>\n",
       "    <tr>\n",
       "      <th>MAC005566</th>\n",
       "      <td>0.163</td>\n",
       "      <td>0.363100</td>\n",
       "      <td>8946.788999</td>\n",
       "      <td>3.936</td>\n",
       "      <td>0.034</td>\n",
       "      <td>2</td>\n",
       "      <td>6</td>\n",
       "    </tr>\n",
       "    <tr>\n",
       "      <th>MAC005567</th>\n",
       "      <td>0.062</td>\n",
       "      <td>0.108561</td>\n",
       "      <td>2268.484999</td>\n",
       "      <td>1.528</td>\n",
       "      <td>0.027</td>\n",
       "      <td>5</td>\n",
       "      <td>4</td>\n",
       "    </tr>\n",
       "  </tbody>\n",
       "</table>\n",
       "<p>4672 rows × 7 columns</p>\n",
       "</div>"
      ],
      "text/plain": [
       "           median_consumption  average_consumption  sum_consumption   \n",
       "LCLid                                                                 \n",
       "MAC000002               0.158             0.252562      6101.138001  \\\n",
       "MAC000003               0.166             0.397666     14104.433003   \n",
       "MAC000005               0.041             0.095388      2911.808000   \n",
       "MAC000007               0.115             0.197805      4954.016999   \n",
       "MAC000008               0.296             0.363102      9445.007000   \n",
       "...                       ...                  ...              ...   \n",
       "MAC005561               0.094             0.152001      4193.402000   \n",
       "MAC005562               0.170             0.218019      6910.988999   \n",
       "MAC005565               0.114             0.131591         5.790000   \n",
       "MAC005566               0.163             0.363100      8946.788999   \n",
       "MAC005567               0.062             0.108561      2268.484999   \n",
       "\n",
       "           highest_consumption  lowest_consumption weekday with highest_avg   \n",
       "LCLid                                                                         \n",
       "MAC000002                2.994               0.000                        7  \\\n",
       "MAC000003                3.921               0.007                        1   \n",
       "MAC000005                1.979               0.010                        1   \n",
       "MAC000007                3.784               0.015                        6   \n",
       "MAC000008                3.581               0.000                        7   \n",
       "...                        ...                 ...                      ...   \n",
       "MAC005561                1.886               0.017                        2   \n",
       "MAC005562                1.879               0.008                        7   \n",
       "MAC005565                1.022               0.010                        3   \n",
       "MAC005566                3.936               0.034                        2   \n",
       "MAC005567                1.528               0.027                        5   \n",
       "\n",
       "          weekday with lowest_avg  \n",
       "LCLid                              \n",
       "MAC000002                       1  \n",
       "MAC000003                       7  \n",
       "MAC000005                       4  \n",
       "MAC000007                       1  \n",
       "MAC000008                       6  \n",
       "...                           ...  \n",
       "MAC005561                       5  \n",
       "MAC005562                       5  \n",
       "MAC005565                       4  \n",
       "MAC005566                       6  \n",
       "MAC005567                       4  \n",
       "\n",
       "[4672 rows x 7 columns]"
      ]
     },
     "execution_count": 83,
     "metadata": {},
     "output_type": "execute_result"
    }
   ],
   "source": [
    "kmeans_data"
   ]
  },
  {
   "cell_type": "code",
   "execution_count": 84,
   "metadata": {},
   "outputs": [],
   "source": [
    "# standardize the data\n",
    "from sklearn.preprocessing import StandardScaler\n",
    "scaler = StandardScaler()\n",
    "kmeans_data_scaled = scaler.fit_transform(kmeans_data)"
   ]
  },
  {
   "cell_type": "code",
   "execution_count": 85,
   "metadata": {},
   "outputs": [
    {
     "name": "stderr",
     "output_type": "stream",
     "text": [
      "c:\\Users\\aduttagu\\.conda\\envs\\pyTut\\lib\\site-packages\\sklearn\\cluster\\_kmeans.py:870: FutureWarning: The default value of `n_init` will change from 10 to 'auto' in 1.4. Set the value of `n_init` explicitly to suppress the warning\n",
      "  warnings.warn(\n",
      "c:\\Users\\aduttagu\\.conda\\envs\\pyTut\\lib\\site-packages\\sklearn\\cluster\\_kmeans.py:1382: UserWarning: KMeans is known to have a memory leak on Windows with MKL, when there are less chunks than available threads. You can avoid it by setting the environment variable OMP_NUM_THREADS=19.\n",
      "  warnings.warn(\n"
     ]
    },
    {
     "data": {
      "text/html": [
       "<style>#sk-container-id-1 {color: black;background-color: white;}#sk-container-id-1 pre{padding: 0;}#sk-container-id-1 div.sk-toggleable {background-color: white;}#sk-container-id-1 label.sk-toggleable__label {cursor: pointer;display: block;width: 100%;margin-bottom: 0;padding: 0.3em;box-sizing: border-box;text-align: center;}#sk-container-id-1 label.sk-toggleable__label-arrow:before {content: \"▸\";float: left;margin-right: 0.25em;color: #696969;}#sk-container-id-1 label.sk-toggleable__label-arrow:hover:before {color: black;}#sk-container-id-1 div.sk-estimator:hover label.sk-toggleable__label-arrow:before {color: black;}#sk-container-id-1 div.sk-toggleable__content {max-height: 0;max-width: 0;overflow: hidden;text-align: left;background-color: #f0f8ff;}#sk-container-id-1 div.sk-toggleable__content pre {margin: 0.2em;color: black;border-radius: 0.25em;background-color: #f0f8ff;}#sk-container-id-1 input.sk-toggleable__control:checked~div.sk-toggleable__content {max-height: 200px;max-width: 100%;overflow: auto;}#sk-container-id-1 input.sk-toggleable__control:checked~label.sk-toggleable__label-arrow:before {content: \"▾\";}#sk-container-id-1 div.sk-estimator input.sk-toggleable__control:checked~label.sk-toggleable__label {background-color: #d4ebff;}#sk-container-id-1 div.sk-label input.sk-toggleable__control:checked~label.sk-toggleable__label {background-color: #d4ebff;}#sk-container-id-1 input.sk-hidden--visually {border: 0;clip: rect(1px 1px 1px 1px);clip: rect(1px, 1px, 1px, 1px);height: 1px;margin: -1px;overflow: hidden;padding: 0;position: absolute;width: 1px;}#sk-container-id-1 div.sk-estimator {font-family: monospace;background-color: #f0f8ff;border: 1px dotted black;border-radius: 0.25em;box-sizing: border-box;margin-bottom: 0.5em;}#sk-container-id-1 div.sk-estimator:hover {background-color: #d4ebff;}#sk-container-id-1 div.sk-parallel-item::after {content: \"\";width: 100%;border-bottom: 1px solid gray;flex-grow: 1;}#sk-container-id-1 div.sk-label:hover label.sk-toggleable__label {background-color: #d4ebff;}#sk-container-id-1 div.sk-serial::before {content: \"\";position: absolute;border-left: 1px solid gray;box-sizing: border-box;top: 0;bottom: 0;left: 50%;z-index: 0;}#sk-container-id-1 div.sk-serial {display: flex;flex-direction: column;align-items: center;background-color: white;padding-right: 0.2em;padding-left: 0.2em;position: relative;}#sk-container-id-1 div.sk-item {position: relative;z-index: 1;}#sk-container-id-1 div.sk-parallel {display: flex;align-items: stretch;justify-content: center;background-color: white;position: relative;}#sk-container-id-1 div.sk-item::before, #sk-container-id-1 div.sk-parallel-item::before {content: \"\";position: absolute;border-left: 1px solid gray;box-sizing: border-box;top: 0;bottom: 0;left: 50%;z-index: -1;}#sk-container-id-1 div.sk-parallel-item {display: flex;flex-direction: column;z-index: 1;position: relative;background-color: white;}#sk-container-id-1 div.sk-parallel-item:first-child::after {align-self: flex-end;width: 50%;}#sk-container-id-1 div.sk-parallel-item:last-child::after {align-self: flex-start;width: 50%;}#sk-container-id-1 div.sk-parallel-item:only-child::after {width: 0;}#sk-container-id-1 div.sk-dashed-wrapped {border: 1px dashed gray;margin: 0 0.4em 0.5em 0.4em;box-sizing: border-box;padding-bottom: 0.4em;background-color: white;}#sk-container-id-1 div.sk-label label {font-family: monospace;font-weight: bold;display: inline-block;line-height: 1.2em;}#sk-container-id-1 div.sk-label-container {text-align: center;}#sk-container-id-1 div.sk-container {/* jupyter's `normalize.less` sets `[hidden] { display: none; }` but bootstrap.min.css set `[hidden] { display: none !important; }` so we also need the `!important` here to be able to override the default hidden behavior on the sphinx rendered scikit-learn.org. See: https://github.com/scikit-learn/scikit-learn/issues/21755 */display: inline-block !important;position: relative;}#sk-container-id-1 div.sk-text-repr-fallback {display: none;}</style><div id=\"sk-container-id-1\" class=\"sk-top-container\"><div class=\"sk-text-repr-fallback\"><pre>KMeans(n_clusters=18, random_state=42)</pre><b>In a Jupyter environment, please rerun this cell to show the HTML representation or trust the notebook. <br />On GitHub, the HTML representation is unable to render, please try loading this page with nbviewer.org.</b></div><div class=\"sk-container\" hidden><div class=\"sk-item\"><div class=\"sk-estimator sk-toggleable\"><input class=\"sk-toggleable__control sk-hidden--visually\" id=\"sk-estimator-id-1\" type=\"checkbox\" checked><label for=\"sk-estimator-id-1\" class=\"sk-toggleable__label sk-toggleable__label-arrow\">KMeans</label><div class=\"sk-toggleable__content\"><pre>KMeans(n_clusters=18, random_state=42)</pre></div></div></div></div></div>"
      ],
      "text/plain": [
       "KMeans(n_clusters=18, random_state=42)"
      ]
     },
     "execution_count": 85,
     "metadata": {},
     "output_type": "execute_result"
    }
   ],
   "source": [
    "# apply KMeans algorithm to divide the LCLIDs into 18 groups\n",
    "from sklearn.cluster import KMeans\n",
    "kmeans = KMeans(n_clusters=18, random_state=42)\n",
    "kmeans.fit(kmeans_data_scaled)"
   ]
  },
  {
   "cell_type": "code",
   "execution_count": 86,
   "metadata": {},
   "outputs": [
    {
     "name": "stdout",
     "output_type": "stream",
     "text": [
      "cluster\n",
      "1     584\n",
      "16    532\n",
      "7     446\n",
      "9     426\n",
      "11    366\n",
      "4     354\n",
      "14    281\n",
      "6     264\n",
      "15    228\n",
      "0     218\n",
      "13    195\n",
      "3     191\n",
      "5     161\n",
      "17    146\n",
      "12    108\n",
      "8      87\n",
      "2      65\n",
      "10     20\n",
      "Name: count, dtype: int64\n"
     ]
    }
   ],
   "source": [
    "# add cluster labels to the dataframe\n",
    "kmeans_data['cluster'] = kmeans.labels_\n",
    "\n",
    "# print the number of LCLIDs in each cluster\n",
    "print(kmeans_data['cluster'].value_counts())"
   ]
  },
  {
   "cell_type": "code",
   "execution_count": 87,
   "metadata": {},
   "outputs": [
    {
     "data": {
      "text/html": [
       "<div>\n",
       "<style scoped>\n",
       "    .dataframe tbody tr th:only-of-type {\n",
       "        vertical-align: middle;\n",
       "    }\n",
       "\n",
       "    .dataframe tbody tr th {\n",
       "        vertical-align: top;\n",
       "    }\n",
       "\n",
       "    .dataframe thead th {\n",
       "        text-align: right;\n",
       "    }\n",
       "</style>\n",
       "<table border=\"1\" class=\"dataframe\">\n",
       "  <thead>\n",
       "    <tr style=\"text-align: right;\">\n",
       "      <th></th>\n",
       "      <th>median_consumption</th>\n",
       "      <th>average_consumption</th>\n",
       "      <th>sum_consumption</th>\n",
       "      <th>highest_consumption</th>\n",
       "      <th>lowest_consumption</th>\n",
       "      <th>weekday with highest_avg</th>\n",
       "      <th>weekday with lowest_avg</th>\n",
       "      <th>cluster</th>\n",
       "    </tr>\n",
       "    <tr>\n",
       "      <th>LCLid</th>\n",
       "      <th></th>\n",
       "      <th></th>\n",
       "      <th></th>\n",
       "      <th></th>\n",
       "      <th></th>\n",
       "      <th></th>\n",
       "      <th></th>\n",
       "      <th></th>\n",
       "    </tr>\n",
       "  </thead>\n",
       "  <tbody>\n",
       "    <tr>\n",
       "      <th>MAC000002</th>\n",
       "      <td>0.158</td>\n",
       "      <td>0.252562</td>\n",
       "      <td>6101.138001</td>\n",
       "      <td>2.994</td>\n",
       "      <td>0.000</td>\n",
       "      <td>7</td>\n",
       "      <td>1</td>\n",
       "      <td>11</td>\n",
       "    </tr>\n",
       "    <tr>\n",
       "      <th>MAC000003</th>\n",
       "      <td>0.166</td>\n",
       "      <td>0.397666</td>\n",
       "      <td>14104.433003</td>\n",
       "      <td>3.921</td>\n",
       "      <td>0.007</td>\n",
       "      <td>1</td>\n",
       "      <td>7</td>\n",
       "      <td>17</td>\n",
       "    </tr>\n",
       "    <tr>\n",
       "      <th>MAC000005</th>\n",
       "      <td>0.041</td>\n",
       "      <td>0.095388</td>\n",
       "      <td>2911.808000</td>\n",
       "      <td>1.979</td>\n",
       "      <td>0.010</td>\n",
       "      <td>1</td>\n",
       "      <td>4</td>\n",
       "      <td>14</td>\n",
       "    </tr>\n",
       "    <tr>\n",
       "      <th>MAC000007</th>\n",
       "      <td>0.115</td>\n",
       "      <td>0.197805</td>\n",
       "      <td>4954.016999</td>\n",
       "      <td>3.784</td>\n",
       "      <td>0.015</td>\n",
       "      <td>6</td>\n",
       "      <td>1</td>\n",
       "      <td>11</td>\n",
       "    </tr>\n",
       "    <tr>\n",
       "      <th>MAC000008</th>\n",
       "      <td>0.296</td>\n",
       "      <td>0.363102</td>\n",
       "      <td>9445.007000</td>\n",
       "      <td>3.581</td>\n",
       "      <td>0.000</td>\n",
       "      <td>7</td>\n",
       "      <td>6</td>\n",
       "      <td>4</td>\n",
       "    </tr>\n",
       "    <tr>\n",
       "      <th>...</th>\n",
       "      <td>...</td>\n",
       "      <td>...</td>\n",
       "      <td>...</td>\n",
       "      <td>...</td>\n",
       "      <td>...</td>\n",
       "      <td>...</td>\n",
       "      <td>...</td>\n",
       "      <td>...</td>\n",
       "    </tr>\n",
       "    <tr>\n",
       "      <th>MAC005561</th>\n",
       "      <td>0.094</td>\n",
       "      <td>0.152001</td>\n",
       "      <td>4193.402000</td>\n",
       "      <td>1.886</td>\n",
       "      <td>0.017</td>\n",
       "      <td>2</td>\n",
       "      <td>5</td>\n",
       "      <td>9</td>\n",
       "    </tr>\n",
       "    <tr>\n",
       "      <th>MAC005562</th>\n",
       "      <td>0.170</td>\n",
       "      <td>0.218019</td>\n",
       "      <td>6910.988999</td>\n",
       "      <td>1.879</td>\n",
       "      <td>0.008</td>\n",
       "      <td>7</td>\n",
       "      <td>5</td>\n",
       "      <td>16</td>\n",
       "    </tr>\n",
       "    <tr>\n",
       "      <th>MAC005565</th>\n",
       "      <td>0.114</td>\n",
       "      <td>0.131591</td>\n",
       "      <td>5.790000</td>\n",
       "      <td>1.022</td>\n",
       "      <td>0.010</td>\n",
       "      <td>3</td>\n",
       "      <td>4</td>\n",
       "      <td>14</td>\n",
       "    </tr>\n",
       "    <tr>\n",
       "      <th>MAC005566</th>\n",
       "      <td>0.163</td>\n",
       "      <td>0.363100</td>\n",
       "      <td>8946.788999</td>\n",
       "      <td>3.936</td>\n",
       "      <td>0.034</td>\n",
       "      <td>2</td>\n",
       "      <td>6</td>\n",
       "      <td>17</td>\n",
       "    </tr>\n",
       "    <tr>\n",
       "      <th>MAC005567</th>\n",
       "      <td>0.062</td>\n",
       "      <td>0.108561</td>\n",
       "      <td>2268.484999</td>\n",
       "      <td>1.528</td>\n",
       "      <td>0.027</td>\n",
       "      <td>5</td>\n",
       "      <td>4</td>\n",
       "      <td>1</td>\n",
       "    </tr>\n",
       "  </tbody>\n",
       "</table>\n",
       "<p>4672 rows × 8 columns</p>\n",
       "</div>"
      ],
      "text/plain": [
       "           median_consumption  average_consumption  sum_consumption   \n",
       "LCLid                                                                 \n",
       "MAC000002               0.158             0.252562      6101.138001  \\\n",
       "MAC000003               0.166             0.397666     14104.433003   \n",
       "MAC000005               0.041             0.095388      2911.808000   \n",
       "MAC000007               0.115             0.197805      4954.016999   \n",
       "MAC000008               0.296             0.363102      9445.007000   \n",
       "...                       ...                  ...              ...   \n",
       "MAC005561               0.094             0.152001      4193.402000   \n",
       "MAC005562               0.170             0.218019      6910.988999   \n",
       "MAC005565               0.114             0.131591         5.790000   \n",
       "MAC005566               0.163             0.363100      8946.788999   \n",
       "MAC005567               0.062             0.108561      2268.484999   \n",
       "\n",
       "           highest_consumption  lowest_consumption weekday with highest_avg   \n",
       "LCLid                                                                         \n",
       "MAC000002                2.994               0.000                        7  \\\n",
       "MAC000003                3.921               0.007                        1   \n",
       "MAC000005                1.979               0.010                        1   \n",
       "MAC000007                3.784               0.015                        6   \n",
       "MAC000008                3.581               0.000                        7   \n",
       "...                        ...                 ...                      ...   \n",
       "MAC005561                1.886               0.017                        2   \n",
       "MAC005562                1.879               0.008                        7   \n",
       "MAC005565                1.022               0.010                        3   \n",
       "MAC005566                3.936               0.034                        2   \n",
       "MAC005567                1.528               0.027                        5   \n",
       "\n",
       "          weekday with lowest_avg  cluster  \n",
       "LCLid                                       \n",
       "MAC000002                       1       11  \n",
       "MAC000003                       7       17  \n",
       "MAC000005                       4       14  \n",
       "MAC000007                       1       11  \n",
       "MAC000008                       6        4  \n",
       "...                           ...      ...  \n",
       "MAC005561                       5        9  \n",
       "MAC005562                       5       16  \n",
       "MAC005565                       4       14  \n",
       "MAC005566                       6       17  \n",
       "MAC005567                       4        1  \n",
       "\n",
       "[4672 rows x 8 columns]"
      ]
     },
     "execution_count": 87,
     "metadata": {},
     "output_type": "execute_result"
    }
   ],
   "source": [
    "kmeans_data"
   ]
  }
 ],
 "metadata": {
  "kernelspec": {
   "display_name": "Python 3.10.6 ('pyTut')",
   "language": "python",
   "name": "python3"
  },
  "language_info": {
   "codemirror_mode": {
    "name": "ipython",
    "version": 3
   },
   "file_extension": ".py",
   "mimetype": "text/x-python",
   "name": "python",
   "nbconvert_exporter": "python",
   "pygments_lexer": "ipython3",
   "version": "3.10.6"
  },
  "orig_nbformat": 4,
  "vscode": {
   "interpreter": {
    "hash": "a59cec1c36deac7e026f494eec6217f04a993526b98b584e0bde93eaa0e46248"
   }
  }
 },
 "nbformat": 4,
 "nbformat_minor": 2
}
